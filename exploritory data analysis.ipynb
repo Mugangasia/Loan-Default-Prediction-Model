{
 "cells": [
  {
   "attachments": {},
   "cell_type": "markdown",
   "metadata": {},
   "source": []
  },
  {
   "attachments": {},
   "cell_type": "markdown",
   "metadata": {},
   "source": [
    "# Vehicle Loan Machine Learning Model\n",
    "### Data Cleaning and Exploratory Data Analysis "
   ]
  },
  {
   "attachments": {},
   "cell_type": "markdown",
   "metadata": {},
   "source": [
    "$Author$ ~ Mugangasia Bravin"
   ]
  },
  {
   "cell_type": "code",
   "execution_count": 1,
   "metadata": {},
   "outputs": [],
   "source": [
    "# Importing LIbraries\n",
    "import pandas as pd\n",
    "import numpy as np\n",
    "import matplotlib.pyplot as plt\n",
    "import seaborn as sns\n",
    "import warnings\n",
    "warnings.filterwarnings('ignore')\n",
    "%matplotlib inline"
   ]
  },
  {
   "cell_type": "code",
   "execution_count": 2,
   "metadata": {},
   "outputs": [
    {
     "data": {
      "text/html": [
       "<div>\n",
       "<style scoped>\n",
       "    .dataframe tbody tr th:only-of-type {\n",
       "        vertical-align: middle;\n",
       "    }\n",
       "\n",
       "    .dataframe tbody tr th {\n",
       "        vertical-align: top;\n",
       "    }\n",
       "\n",
       "    .dataframe thead th {\n",
       "        text-align: right;\n",
       "    }\n",
       "</style>\n",
       "<table border=\"1\" class=\"dataframe\">\n",
       "  <thead>\n",
       "    <tr style=\"text-align: right;\">\n",
       "      <th></th>\n",
       "      <th>DISBURSED_AMOUNT</th>\n",
       "      <th>ASSET_COST</th>\n",
       "      <th>LTV</th>\n",
       "      <th>BRANCH_ID</th>\n",
       "      <th>SUPPLIER_ID</th>\n",
       "      <th>MANUFACTURER_ID</th>\n",
       "      <th>CURRENT_PINCODE_ID</th>\n",
       "      <th>DATE_OF_BIRTH</th>\n",
       "      <th>EMPLOYMENT_TYPE</th>\n",
       "      <th>DISBURSAL_DATE</th>\n",
       "      <th>...</th>\n",
       "      <th>SEC_SANCTIONED_AMOUNT</th>\n",
       "      <th>SEC_DISBURSED_AMOUNT</th>\n",
       "      <th>PRIMARY_INSTAL_AMT</th>\n",
       "      <th>SEC_INSTAL_AMT</th>\n",
       "      <th>NEW_ACCTS_IN_LAST_SIX_MONTHS</th>\n",
       "      <th>DELINQUENT_ACCTS_IN_LAST_SIX_MONTHS</th>\n",
       "      <th>AVERAGE_ACCT_AGE</th>\n",
       "      <th>CREDIT_HISTORY_LENGTH</th>\n",
       "      <th>NO_OF_INQUIRIES</th>\n",
       "      <th>LOAN_DEFAULT</th>\n",
       "    </tr>\n",
       "    <tr>\n",
       "      <th>UNIQUEID</th>\n",
       "      <th></th>\n",
       "      <th></th>\n",
       "      <th></th>\n",
       "      <th></th>\n",
       "      <th></th>\n",
       "      <th></th>\n",
       "      <th></th>\n",
       "      <th></th>\n",
       "      <th></th>\n",
       "      <th></th>\n",
       "      <th></th>\n",
       "      <th></th>\n",
       "      <th></th>\n",
       "      <th></th>\n",
       "      <th></th>\n",
       "      <th></th>\n",
       "      <th></th>\n",
       "      <th></th>\n",
       "      <th></th>\n",
       "      <th></th>\n",
       "      <th></th>\n",
       "    </tr>\n",
       "  </thead>\n",
       "  <tbody>\n",
       "    <tr>\n",
       "      <th>420825</th>\n",
       "      <td>50578</td>\n",
       "      <td>58400</td>\n",
       "      <td>89.55</td>\n",
       "      <td>67</td>\n",
       "      <td>22807</td>\n",
       "      <td>45</td>\n",
       "      <td>1441</td>\n",
       "      <td>01-01-1984</td>\n",
       "      <td>Salaried</td>\n",
       "      <td>03-08-2018</td>\n",
       "      <td>...</td>\n",
       "      <td>0</td>\n",
       "      <td>0</td>\n",
       "      <td>0</td>\n",
       "      <td>0</td>\n",
       "      <td>0</td>\n",
       "      <td>0</td>\n",
       "      <td>0yrs 0mon</td>\n",
       "      <td>0yrs 0mon</td>\n",
       "      <td>0</td>\n",
       "      <td>0</td>\n",
       "    </tr>\n",
       "    <tr>\n",
       "      <th>537409</th>\n",
       "      <td>47145</td>\n",
       "      <td>65550</td>\n",
       "      <td>73.23</td>\n",
       "      <td>67</td>\n",
       "      <td>22807</td>\n",
       "      <td>45</td>\n",
       "      <td>1502</td>\n",
       "      <td>31-07-1985</td>\n",
       "      <td>Self employed</td>\n",
       "      <td>26-09-2018</td>\n",
       "      <td>...</td>\n",
       "      <td>0</td>\n",
       "      <td>0</td>\n",
       "      <td>1991</td>\n",
       "      <td>0</td>\n",
       "      <td>0</td>\n",
       "      <td>1</td>\n",
       "      <td>1yrs 11mon</td>\n",
       "      <td>1yrs 11mon</td>\n",
       "      <td>0</td>\n",
       "      <td>1</td>\n",
       "    </tr>\n",
       "    <tr>\n",
       "      <th>417566</th>\n",
       "      <td>53278</td>\n",
       "      <td>61360</td>\n",
       "      <td>89.63</td>\n",
       "      <td>67</td>\n",
       "      <td>22807</td>\n",
       "      <td>45</td>\n",
       "      <td>1497</td>\n",
       "      <td>24-08-1985</td>\n",
       "      <td>Self employed</td>\n",
       "      <td>01-08-2018</td>\n",
       "      <td>...</td>\n",
       "      <td>0</td>\n",
       "      <td>0</td>\n",
       "      <td>0</td>\n",
       "      <td>0</td>\n",
       "      <td>0</td>\n",
       "      <td>0</td>\n",
       "      <td>0yrs 0mon</td>\n",
       "      <td>0yrs 0mon</td>\n",
       "      <td>0</td>\n",
       "      <td>0</td>\n",
       "    </tr>\n",
       "    <tr>\n",
       "      <th>624493</th>\n",
       "      <td>57513</td>\n",
       "      <td>66113</td>\n",
       "      <td>88.48</td>\n",
       "      <td>67</td>\n",
       "      <td>22807</td>\n",
       "      <td>45</td>\n",
       "      <td>1501</td>\n",
       "      <td>30-12-1993</td>\n",
       "      <td>Self employed</td>\n",
       "      <td>26-10-2018</td>\n",
       "      <td>...</td>\n",
       "      <td>0</td>\n",
       "      <td>0</td>\n",
       "      <td>31</td>\n",
       "      <td>0</td>\n",
       "      <td>0</td>\n",
       "      <td>0</td>\n",
       "      <td>0yrs 8mon</td>\n",
       "      <td>1yrs 3mon</td>\n",
       "      <td>1</td>\n",
       "      <td>1</td>\n",
       "    </tr>\n",
       "    <tr>\n",
       "      <th>539055</th>\n",
       "      <td>52378</td>\n",
       "      <td>60300</td>\n",
       "      <td>88.39</td>\n",
       "      <td>67</td>\n",
       "      <td>22807</td>\n",
       "      <td>45</td>\n",
       "      <td>1495</td>\n",
       "      <td>09-12-1977</td>\n",
       "      <td>Self employed</td>\n",
       "      <td>26-09-2018</td>\n",
       "      <td>...</td>\n",
       "      <td>0</td>\n",
       "      <td>0</td>\n",
       "      <td>0</td>\n",
       "      <td>0</td>\n",
       "      <td>0</td>\n",
       "      <td>0</td>\n",
       "      <td>0yrs 0mon</td>\n",
       "      <td>0yrs 0mon</td>\n",
       "      <td>1</td>\n",
       "      <td>1</td>\n",
       "    </tr>\n",
       "  </tbody>\n",
       "</table>\n",
       "<p>5 rows × 40 columns</p>\n",
       "</div>"
      ],
      "text/plain": [
       "          DISBURSED_AMOUNT  ASSET_COST    LTV  BRANCH_ID  SUPPLIER_ID  \\\n",
       "UNIQUEID                                                                \n",
       "420825               50578       58400  89.55         67        22807   \n",
       "537409               47145       65550  73.23         67        22807   \n",
       "417566               53278       61360  89.63         67        22807   \n",
       "624493               57513       66113  88.48         67        22807   \n",
       "539055               52378       60300  88.39         67        22807   \n",
       "\n",
       "          MANUFACTURER_ID  CURRENT_PINCODE_ID DATE_OF_BIRTH EMPLOYMENT_TYPE  \\\n",
       "UNIQUEID                                                                      \n",
       "420825                 45                1441    01-01-1984        Salaried   \n",
       "537409                 45                1502    31-07-1985   Self employed   \n",
       "417566                 45                1497    24-08-1985   Self employed   \n",
       "624493                 45                1501    30-12-1993   Self employed   \n",
       "539055                 45                1495    09-12-1977   Self employed   \n",
       "\n",
       "         DISBURSAL_DATE  ...  SEC_SANCTIONED_AMOUNT  SEC_DISBURSED_AMOUNT  \\\n",
       "UNIQUEID                 ...                                                \n",
       "420825       03-08-2018  ...                      0                     0   \n",
       "537409       26-09-2018  ...                      0                     0   \n",
       "417566       01-08-2018  ...                      0                     0   \n",
       "624493       26-10-2018  ...                      0                     0   \n",
       "539055       26-09-2018  ...                      0                     0   \n",
       "\n",
       "          PRIMARY_INSTAL_AMT  SEC_INSTAL_AMT  NEW_ACCTS_IN_LAST_SIX_MONTHS  \\\n",
       "UNIQUEID                                                                     \n",
       "420825                     0               0                             0   \n",
       "537409                  1991               0                             0   \n",
       "417566                     0               0                             0   \n",
       "624493                    31               0                             0   \n",
       "539055                     0               0                             0   \n",
       "\n",
       "          DELINQUENT_ACCTS_IN_LAST_SIX_MONTHS  AVERAGE_ACCT_AGE  \\\n",
       "UNIQUEID                                                          \n",
       "420825                                      0         0yrs 0mon   \n",
       "537409                                      1        1yrs 11mon   \n",
       "417566                                      0         0yrs 0mon   \n",
       "624493                                      0         0yrs 8mon   \n",
       "539055                                      0         0yrs 0mon   \n",
       "\n",
       "          CREDIT_HISTORY_LENGTH  NO_OF_INQUIRIES LOAN_DEFAULT  \n",
       "UNIQUEID                                                       \n",
       "420825                0yrs 0mon                0            0  \n",
       "537409               1yrs 11mon                0            1  \n",
       "417566                0yrs 0mon                0            0  \n",
       "624493                1yrs 3mon                1            1  \n",
       "539055                0yrs 0mon                1            1  \n",
       "\n",
       "[5 rows x 40 columns]"
      ]
     },
     "execution_count": 2,
     "metadata": {},
     "output_type": "execute_result"
    }
   ],
   "source": [
    "# Loading the dataset\n",
    "loan_df = pd.read_csv('/home/bravin/Documents/Loan Default Prediction Model/vehicle_loans.csv', index_col=\"UNIQUEID\")\n",
    "\n",
    "# Reading the first 5 rows of the dataset\n",
    "loan_df.head()"
   ]
  },
  {
   "cell_type": "code",
   "execution_count": 3,
   "metadata": {},
   "outputs": [
    {
     "data": {
      "text/plain": [
       "(233154, 40)"
      ]
     },
     "execution_count": 3,
     "metadata": {},
     "output_type": "execute_result"
    }
   ],
   "source": [
    "# Checking the shape of the dataset\n",
    "loan_df.shape"
   ]
  },
  {
   "attachments": {},
   "cell_type": "markdown",
   "metadata": {},
   "source": [
    "* The DataFrame has 233154 data points with 40 Variables "
   ]
  },
  {
   "cell_type": "code",
   "execution_count": 4,
   "metadata": {},
   "outputs": [
    {
     "name": "stdout",
     "output_type": "stream",
     "text": [
      "<class 'pandas.core.frame.DataFrame'>\n",
      "Int64Index: 233154 entries, 420825 to 630213\n",
      "Data columns (total 40 columns):\n",
      " #   Column                               Non-Null Count   Dtype  \n",
      "---  ------                               --------------   -----  \n",
      " 0   DISBURSED_AMOUNT                     233154 non-null  int64  \n",
      " 1   ASSET_COST                           233154 non-null  int64  \n",
      " 2   LTV                                  233154 non-null  float64\n",
      " 3   BRANCH_ID                            233154 non-null  int64  \n",
      " 4   SUPPLIER_ID                          233154 non-null  int64  \n",
      " 5   MANUFACTURER_ID                      233154 non-null  int64  \n",
      " 6   CURRENT_PINCODE_ID                   233154 non-null  int64  \n",
      " 7   DATE_OF_BIRTH                        233154 non-null  object \n",
      " 8   EMPLOYMENT_TYPE                      225493 non-null  object \n",
      " 9   DISBURSAL_DATE                       233154 non-null  object \n",
      " 10  STATE_ID                             233154 non-null  int64  \n",
      " 11  EMPLOYEE_CODE_ID                     233154 non-null  int64  \n",
      " 12  MOBILENO_AVL_FLAG                    233154 non-null  int64  \n",
      " 13  AADHAR_FLAG                          233154 non-null  int64  \n",
      " 14  PAN_FLAG                             233154 non-null  int64  \n",
      " 15  VOTERID_FLAG                         233154 non-null  int64  \n",
      " 16  DRIVING_FLAG                         233154 non-null  int64  \n",
      " 17  PASSPORT_FLAG                        233154 non-null  int64  \n",
      " 18  PERFORM_CNS_SCORE                    233154 non-null  int64  \n",
      " 19  PERFORM_CNS_SCORE_DESCRIPTION        233154 non-null  object \n",
      " 20  PRI_NO_OF_ACCTS                      233154 non-null  int64  \n",
      " 21  PRI_ACTIVE_ACCTS                     233154 non-null  int64  \n",
      " 22  PRI_OVERDUE_ACCTS                    233154 non-null  int64  \n",
      " 23  PRI_CURRENT_BALANCE                  233154 non-null  int64  \n",
      " 24  PRI_SANCTIONED_AMOUNT                233154 non-null  int64  \n",
      " 25  PRI_DISBURSED_AMOUNT                 233154 non-null  int64  \n",
      " 26  SEC_NO_OF_ACCTS                      233154 non-null  int64  \n",
      " 27  SEC_ACTIVE_ACCTS                     233154 non-null  int64  \n",
      " 28  SEC_OVERDUE_ACCTS                    233154 non-null  int64  \n",
      " 29  SEC_CURRENT_BALANCE                  233154 non-null  int64  \n",
      " 30  SEC_SANCTIONED_AMOUNT                233154 non-null  int64  \n",
      " 31  SEC_DISBURSED_AMOUNT                 233154 non-null  int64  \n",
      " 32  PRIMARY_INSTAL_AMT                   233154 non-null  int64  \n",
      " 33  SEC_INSTAL_AMT                       233154 non-null  int64  \n",
      " 34  NEW_ACCTS_IN_LAST_SIX_MONTHS         233154 non-null  int64  \n",
      " 35  DELINQUENT_ACCTS_IN_LAST_SIX_MONTHS  233154 non-null  int64  \n",
      " 36  AVERAGE_ACCT_AGE                     233154 non-null  object \n",
      " 37  CREDIT_HISTORY_LENGTH                233154 non-null  object \n",
      " 38  NO_OF_INQUIRIES                      233154 non-null  int64  \n",
      " 39  LOAN_DEFAULT                         233154 non-null  int64  \n",
      "dtypes: float64(1), int64(33), object(6)\n",
      "memory usage: 72.9+ MB\n"
     ]
    }
   ],
   "source": [
    "# Checking the datatypes of the dataset\n",
    "loan_df.info()"
   ]
  },
  {
   "attachments": {},
   "cell_type": "markdown",
   "metadata": {},
   "source": [
    "1. OUr columns are made up of three dataTypes;\n",
    "    * Integer ```int64``` (Whole Numbers)\n",
    "    * Float ```float64``` (floating point NUmbers)\n",
    "    * object ```string``` (Non Numeric)\n",
    "2. DATE_OF_BIRTH, EMPLOYMENT_TYPE,DISBURSAL_DATE,PERFORM_CNS_SCORE_DESCRIPTION,AVERAGE_ACCT_AGE and CREDIT_HISTORY_LENGHT are object data types. \n",
    "3. EMPLOYMENT_TYPE has some missing values "
   ]
  },
  {
   "attachments": {},
   "cell_type": "markdown",
   "metadata": {},
   "source": [
    "### FEATURES ENGINEERING & DATA CLEANING"
   ]
  },
  {
   "attachments": {},
   "cell_type": "markdown",
   "metadata": {},
   "source": [
    "#### Date Range "
   ]
  },
  {
   "cell_type": "code",
   "execution_count": 5,
   "metadata": {},
   "outputs": [],
   "source": [
    "# Converting disbursed date to datetime format\n",
    "loan_df['DISBURSAL_DATE'] = pd.to_datetime(loan_df['DISBURSAL_DATE'])"
   ]
  },
  {
   "cell_type": "code",
   "execution_count": 6,
   "metadata": {},
   "outputs": [
    {
     "name": "stdout",
     "output_type": "stream",
     "text": [
      "Minimum Disbursal Date : 2018-01-08 00:00:00\n",
      "Maximum Disbursal Date : 2018-12-10 00:00:00\n"
     ]
    }
   ],
   "source": [
    "# Checking the first and last disbursed date\n",
    "print(\"Minimum Disbursal Date :\",loan_df['DISBURSAL_DATE'].min())\n",
    "print(\"Maximum Disbursal Date :\",loan_df['DISBURSAL_DATE'].max())"
   ]
  },
  {
   "cell_type": "code",
   "execution_count": 7,
   "metadata": {},
   "outputs": [
    {
     "name": "stdout",
     "output_type": "stream",
     "text": [
      "Timespan of the dataset : 336 days 00:00:00\n"
     ]
    }
   ],
   "source": [
    "# print timespan of the dataset\n",
    "print(\"Timespan of the dataset :\",loan_df['DISBURSAL_DATE'].max() - loan_df['DISBURSAL_DATE'].min())"
   ]
  },
  {
   "attachments": {},
   "cell_type": "markdown",
   "metadata": {},
   "source": [
    "* The Dataset has information for 233154 loan details.\n",
    "* There are 40 Variables \n",
    "* The data covers loans over 336 days between January and December 2018"
   ]
  },
  {
   "attachments": {},
   "cell_type": "markdown",
   "metadata": {},
   "source": [
    "#### Missing Values "
   ]
  },
  {
   "cell_type": "code",
   "execution_count": 8,
   "metadata": {},
   "outputs": [
    {
     "data": {
      "text/plain": [
       "DISBURSED_AMOUNT                          0\n",
       "ASSET_COST                                0\n",
       "LTV                                       0\n",
       "BRANCH_ID                                 0\n",
       "SUPPLIER_ID                               0\n",
       "MANUFACTURER_ID                           0\n",
       "CURRENT_PINCODE_ID                        0\n",
       "DATE_OF_BIRTH                             0\n",
       "EMPLOYMENT_TYPE                        7661\n",
       "DISBURSAL_DATE                            0\n",
       "STATE_ID                                  0\n",
       "EMPLOYEE_CODE_ID                          0\n",
       "MOBILENO_AVL_FLAG                         0\n",
       "AADHAR_FLAG                               0\n",
       "PAN_FLAG                                  0\n",
       "VOTERID_FLAG                              0\n",
       "DRIVING_FLAG                              0\n",
       "PASSPORT_FLAG                             0\n",
       "PERFORM_CNS_SCORE                         0\n",
       "PERFORM_CNS_SCORE_DESCRIPTION             0\n",
       "PRI_NO_OF_ACCTS                           0\n",
       "PRI_ACTIVE_ACCTS                          0\n",
       "PRI_OVERDUE_ACCTS                         0\n",
       "PRI_CURRENT_BALANCE                       0\n",
       "PRI_SANCTIONED_AMOUNT                     0\n",
       "PRI_DISBURSED_AMOUNT                      0\n",
       "SEC_NO_OF_ACCTS                           0\n",
       "SEC_ACTIVE_ACCTS                          0\n",
       "SEC_OVERDUE_ACCTS                         0\n",
       "SEC_CURRENT_BALANCE                       0\n",
       "SEC_SANCTIONED_AMOUNT                     0\n",
       "SEC_DISBURSED_AMOUNT                      0\n",
       "PRIMARY_INSTAL_AMT                        0\n",
       "SEC_INSTAL_AMT                            0\n",
       "NEW_ACCTS_IN_LAST_SIX_MONTHS              0\n",
       "DELINQUENT_ACCTS_IN_LAST_SIX_MONTHS       0\n",
       "AVERAGE_ACCT_AGE                          0\n",
       "CREDIT_HISTORY_LENGTH                     0\n",
       "NO_OF_INQUIRIES                           0\n",
       "LOAN_DEFAULT                              0\n",
       "dtype: int64"
      ]
     },
     "execution_count": 8,
     "metadata": {},
     "output_type": "execute_result"
    }
   ],
   "source": [
    "# identifying the missing values\n",
    "loan_df.isnull().sum()"
   ]
  },
  {
   "cell_type": "code",
   "execution_count": 9,
   "metadata": {},
   "outputs": [
    {
     "name": "stdout",
     "output_type": "stream",
     "text": [
      "Self employed    127635\n",
      "Salaried          97858\n",
      "Name: EMPLOYMENT_TYPE, dtype: int64\n"
     ]
    },
    {
     "data": {
      "text/plain": [
       "<seaborn.axisgrid.FacetGrid at 0x7fdd31d37be0>"
      ]
     },
     "execution_count": 9,
     "metadata": {},
     "output_type": "execute_result"
    },
    {
     "data": {
      "image/png": "[encoded data removed]",
      "text/plain": [
       "<Figure size 500x500 with 1 Axes>"
      ]
     },
     "metadata": {},
     "output_type": "display_data"
    }
   ],
   "source": [
    "# Explore the EMPLOYMENT_TYPE column\n",
    "print(loan_df['EMPLOYMENT_TYPE'].value_counts())\n",
    "\n",
    "# catplot of EMPLOYMENT_TYPE\n",
    "sns.catplot(x='EMPLOYMENT_TYPE', kind='count', data=loan_df)"
   ]
  },
  {
   "attachments": {},
   "cell_type": "markdown",
   "metadata": {},
   "source": [
    "* ```EMPLOYMENT_TYPE``` has two unique variables ```Salaried``` and ```Self employed```"
   ]
  },
  {
   "cell_type": "code",
   "execution_count": 10,
   "metadata": {},
   "outputs": [],
   "source": [
    "# Fill the missing values in EMPLOYMENT_TYPE with 'Missing'\n",
    "loan_df['EMPLOYMENT_TYPE'].fillna('Missing', inplace=True)"
   ]
  },
  {
   "cell_type": "code",
   "execution_count": 11,
   "metadata": {},
   "outputs": [
    {
     "data": {
      "text/plain": [
       "Self employed    127635\n",
       "Salaried          97858\n",
       "Missing            7661\n",
       "Name: EMPLOYMENT_TYPE, dtype: int64"
      ]
     },
     "execution_count": 11,
     "metadata": {},
     "output_type": "execute_result"
    }
   ],
   "source": [
    "# Explore the EMPLOYMENT_TYPE column\n",
    "loan_df['EMPLOYMENT_TYPE'].value_counts()"
   ]
  },
  {
   "cell_type": "code",
   "execution_count": 12,
   "metadata": {},
   "outputs": [
    {
     "data": {
      "text/plain": [
       "<seaborn.axisgrid.FacetGrid at 0x7fdd31d37cd0>"
      ]
     },
     "execution_count": 12,
     "metadata": {},
     "output_type": "execute_result"
    },
    {
     "data": {
      "image/png": "[encoded data removed]",
      "text/plain": [
       "<Figure size 500x500 with 1 Axes>"
      ]
     },
     "metadata": {},
     "output_type": "display_data"
    }
   ],
   "source": [
    "# catplot of EMPLOYMENT_TYPE\n",
    "sns.catplot(x='EMPLOYMENT_TYPE', kind='count', data=loan_df)"
   ]
  },
  {
   "attachments": {},
   "cell_type": "markdown",
   "metadata": {},
   "source": [
    "* All 7661 values have been filled with the value ```Missing``` "
   ]
  },
  {
   "attachments": {},
   "cell_type": "markdown",
   "metadata": {},
   "source": [
    "#### Explore Target Variable - *LOAN_DEFAULT*"
   ]
  },
  {
   "cell_type": "code",
   "execution_count": 13,
   "metadata": {},
   "outputs": [
    {
     "data": {
      "text/plain": [
       "0    182543\n",
       "1     50611\n",
       "Name: LOAN_DEFAULT, dtype: int64"
      ]
     },
     "execution_count": 13,
     "metadata": {},
     "output_type": "execute_result"
    }
   ],
   "source": [
    "# explore target variable\n",
    "loan_df['LOAN_DEFAULT'].value_counts()"
   ]
  },
  {
   "cell_type": "code",
   "execution_count": 14,
   "metadata": {},
   "outputs": [],
   "source": [
    "# # ENCODING TARGET VARIABLE\n",
    "# loan_df['LOAN_DEFAULT'] = loan_df['LOAN_DEFAULT'].map({0:'NO', 1:'YES'})"
   ]
  },
  {
   "cell_type": "code",
   "execution_count": 15,
   "metadata": {},
   "outputs": [
    {
     "data": {
      "text/plain": [
       "0    0.782929\n",
       "1    0.217071\n",
       "Name: LOAN_DEFAULT, dtype: float64"
      ]
     },
     "execution_count": 15,
     "metadata": {},
     "output_type": "execute_result"
    }
   ],
   "source": [
    "# Checking the percentage of target variable\n",
    "loan_df['LOAN_DEFAULT'].value_counts(normalize=True)"
   ]
  },
  {
   "cell_type": "code",
   "execution_count": 16,
   "metadata": {},
   "outputs": [
    {
     "data": {
      "text/plain": [
       "<AxesSubplot:xlabel='LOAN_DEFAULT', ylabel='count'>"
      ]
     },
     "execution_count": 16,
     "metadata": {},
     "output_type": "execute_result"
    },
    {
     "data": {
      "image/png": "[encoded data removed]",
      "text/plain": [
       "<Figure size 640x480 with 1 Axes>"
      ]
     },
     "metadata": {},
     "output_type": "display_data"
    }
   ],
   "source": [
    "# Bar plot of target variable\n",
    "sns.countplot(loan_df['LOAN_DEFAULT'])"
   ]
  },
  {
   "attachments": {},
   "cell_type": "markdown",
   "metadata": {},
   "source": [
    "* ```50611```applicants defaulted on payments while ```182543``` applicants succesfully made paymenst for their loans \n",
    "* The rate of defaulted loans is about ```21.7%```"
   ]
  },
  {
   "attachments": {},
   "cell_type": "markdown",
   "metadata": {},
   "source": [
    "#### Dates "
   ]
  },
  {
   "cell_type": "code",
   "execution_count": 17,
   "metadata": {},
   "outputs": [
    {
     "data": {
      "text/html": [
       "<div>\n",
       "<style scoped>\n",
       "    .dataframe tbody tr th:only-of-type {\n",
       "        vertical-align: middle;\n",
       "    }\n",
       "\n",
       "    .dataframe tbody tr th {\n",
       "        vertical-align: top;\n",
       "    }\n",
       "\n",
       "    .dataframe thead th {\n",
       "        text-align: right;\n",
       "    }\n",
       "</style>\n",
       "<table border=\"1\" class=\"dataframe\">\n",
       "  <thead>\n",
       "    <tr style=\"text-align: right;\">\n",
       "      <th></th>\n",
       "      <th>DISBURSAL_DATE</th>\n",
       "      <th>DATE_OF_BIRTH</th>\n",
       "    </tr>\n",
       "    <tr>\n",
       "      <th>UNIQUEID</th>\n",
       "      <th></th>\n",
       "      <th></th>\n",
       "    </tr>\n",
       "  </thead>\n",
       "  <tbody>\n",
       "    <tr>\n",
       "      <th>420825</th>\n",
       "      <td>2018-03-08</td>\n",
       "      <td>01-01-1984</td>\n",
       "    </tr>\n",
       "    <tr>\n",
       "      <th>537409</th>\n",
       "      <td>2018-09-26</td>\n",
       "      <td>31-07-1985</td>\n",
       "    </tr>\n",
       "    <tr>\n",
       "      <th>417566</th>\n",
       "      <td>2018-01-08</td>\n",
       "      <td>24-08-1985</td>\n",
       "    </tr>\n",
       "    <tr>\n",
       "      <th>624493</th>\n",
       "      <td>2018-10-26</td>\n",
       "      <td>30-12-1993</td>\n",
       "    </tr>\n",
       "    <tr>\n",
       "      <th>539055</th>\n",
       "      <td>2018-09-26</td>\n",
       "      <td>09-12-1977</td>\n",
       "    </tr>\n",
       "    <tr>\n",
       "      <th>518279</th>\n",
       "      <td>2018-09-19</td>\n",
       "      <td>08-09-1990</td>\n",
       "    </tr>\n",
       "    <tr>\n",
       "      <th>529269</th>\n",
       "      <td>2018-09-23</td>\n",
       "      <td>01-06-1988</td>\n",
       "    </tr>\n",
       "    <tr>\n",
       "      <th>510278</th>\n",
       "      <td>2018-09-16</td>\n",
       "      <td>04-10-1989</td>\n",
       "    </tr>\n",
       "    <tr>\n",
       "      <th>490213</th>\n",
       "      <td>2018-05-09</td>\n",
       "      <td>15-11-1991</td>\n",
       "    </tr>\n",
       "    <tr>\n",
       "      <th>510980</th>\n",
       "      <td>2018-09-16</td>\n",
       "      <td>01-06-1968</td>\n",
       "    </tr>\n",
       "  </tbody>\n",
       "</table>\n",
       "</div>"
      ],
      "text/plain": [
       "         DISBURSAL_DATE DATE_OF_BIRTH\n",
       "UNIQUEID                             \n",
       "420825       2018-03-08    01-01-1984\n",
       "537409       2018-09-26    31-07-1985\n",
       "417566       2018-01-08    24-08-1985\n",
       "624493       2018-10-26    30-12-1993\n",
       "539055       2018-09-26    09-12-1977\n",
       "518279       2018-09-19    08-09-1990\n",
       "529269       2018-09-23    01-06-1988\n",
       "510278       2018-09-16    04-10-1989\n",
       "490213       2018-05-09    15-11-1991\n",
       "510980       2018-09-16    01-06-1968"
      ]
     },
     "execution_count": 17,
     "metadata": {},
     "output_type": "execute_result"
    }
   ],
   "source": [
    "# DISBURSAL_DATE and DATE_OF_BIRTH\n",
    "loan_df[['DISBURSAL_DATE','DATE_OF_BIRTH']].head(10)"
   ]
  },
  {
   "attachments": {},
   "cell_type": "markdown",
   "metadata": {},
   "source": [
    "#### Age of Customer at time of Disbursment "
   ]
  },
  {
   "cell_type": "code",
   "execution_count": 18,
   "metadata": {},
   "outputs": [
    {
     "data": {
      "text/html": [
       "<div>\n",
       "<style scoped>\n",
       "    .dataframe tbody tr th:only-of-type {\n",
       "        vertical-align: middle;\n",
       "    }\n",
       "\n",
       "    .dataframe tbody tr th {\n",
       "        vertical-align: top;\n",
       "    }\n",
       "\n",
       "    .dataframe thead th {\n",
       "        text-align: right;\n",
       "    }\n",
       "</style>\n",
       "<table border=\"1\" class=\"dataframe\">\n",
       "  <thead>\n",
       "    <tr style=\"text-align: right;\">\n",
       "      <th></th>\n",
       "      <th>DISBURSAL_DATE</th>\n",
       "      <th>DATE_OF_BIRTH</th>\n",
       "      <th>AGE</th>\n",
       "    </tr>\n",
       "    <tr>\n",
       "      <th>UNIQUEID</th>\n",
       "      <th></th>\n",
       "      <th></th>\n",
       "      <th></th>\n",
       "    </tr>\n",
       "  </thead>\n",
       "  <tbody>\n",
       "    <tr>\n",
       "      <th>420825</th>\n",
       "      <td>2018-03-08</td>\n",
       "      <td>1984-01-01</td>\n",
       "      <td>34</td>\n",
       "    </tr>\n",
       "    <tr>\n",
       "      <th>537409</th>\n",
       "      <td>2018-09-26</td>\n",
       "      <td>1985-07-31</td>\n",
       "      <td>33</td>\n",
       "    </tr>\n",
       "    <tr>\n",
       "      <th>417566</th>\n",
       "      <td>2018-01-08</td>\n",
       "      <td>1985-08-24</td>\n",
       "      <td>33</td>\n",
       "    </tr>\n",
       "    <tr>\n",
       "      <th>624493</th>\n",
       "      <td>2018-10-26</td>\n",
       "      <td>1993-12-30</td>\n",
       "      <td>25</td>\n",
       "    </tr>\n",
       "    <tr>\n",
       "      <th>539055</th>\n",
       "      <td>2018-09-26</td>\n",
       "      <td>1977-09-12</td>\n",
       "      <td>41</td>\n",
       "    </tr>\n",
       "  </tbody>\n",
       "</table>\n",
       "</div>"
      ],
      "text/plain": [
       "         DISBURSAL_DATE DATE_OF_BIRTH  AGE\n",
       "UNIQUEID                                  \n",
       "420825       2018-03-08    1984-01-01   34\n",
       "537409       2018-09-26    1985-07-31   33\n",
       "417566       2018-01-08    1985-08-24   33\n",
       "624493       2018-10-26    1993-12-30   25\n",
       "539055       2018-09-26    1977-09-12   41"
      ]
     },
     "execution_count": 18,
     "metadata": {},
     "output_type": "execute_result"
    }
   ],
   "source": [
    "# Convert DATE_OF_BIRTH to datetime format\n",
    "loan_df['DATE_OF_BIRTH'] = pd.to_datetime(loan_df['DATE_OF_BIRTH'])\n",
    "\n",
    "# Convert DISBURSAL_DATE to datetime format\n",
    "loan_df['DISBURSAL_DATE'] = pd.to_datetime(loan_df['DISBURSAL_DATE'])\n",
    "\n",
    "\n",
    "# Calculate the age of the customer at time of loan disbursal\n",
    "loan_df['AGE'] = loan_df['DISBURSAL_DATE'].dt.year - loan_df['DATE_OF_BIRTH'].dt.year\n",
    "\n",
    "# Checking the first 5 rows of the dataset\n",
    "loan_df[['DISBURSAL_DATE','DATE_OF_BIRTH','AGE']].head()"
   ]
  },
  {
   "attachments": {},
   "cell_type": "markdown",
   "metadata": {},
   "source": [
    "#### Disbursal Dates Vs Defaults "
   ]
  },
  {
   "cell_type": "code",
   "execution_count": 19,
   "metadata": {},
   "outputs": [
    {
     "data": {
      "text/html": [
       "<div>\n",
       "<style scoped>\n",
       "    .dataframe tbody tr th:only-of-type {\n",
       "        vertical-align: middle;\n",
       "    }\n",
       "\n",
       "    .dataframe tbody tr th {\n",
       "        vertical-align: top;\n",
       "    }\n",
       "\n",
       "    .dataframe thead th {\n",
       "        text-align: right;\n",
       "    }\n",
       "</style>\n",
       "<table border=\"1\" class=\"dataframe\">\n",
       "  <thead>\n",
       "    <tr style=\"text-align: right;\">\n",
       "      <th></th>\n",
       "      <th>DISBURSAL_DATE</th>\n",
       "      <th>DISBURSAL_MONTH</th>\n",
       "    </tr>\n",
       "    <tr>\n",
       "      <th>UNIQUEID</th>\n",
       "      <th></th>\n",
       "      <th></th>\n",
       "    </tr>\n",
       "  </thead>\n",
       "  <tbody>\n",
       "    <tr>\n",
       "      <th>420825</th>\n",
       "      <td>2018-03-08</td>\n",
       "      <td>3</td>\n",
       "    </tr>\n",
       "    <tr>\n",
       "      <th>537409</th>\n",
       "      <td>2018-09-26</td>\n",
       "      <td>9</td>\n",
       "    </tr>\n",
       "    <tr>\n",
       "      <th>417566</th>\n",
       "      <td>2018-01-08</td>\n",
       "      <td>1</td>\n",
       "    </tr>\n",
       "    <tr>\n",
       "      <th>624493</th>\n",
       "      <td>2018-10-26</td>\n",
       "      <td>10</td>\n",
       "    </tr>\n",
       "    <tr>\n",
       "      <th>539055</th>\n",
       "      <td>2018-09-26</td>\n",
       "      <td>9</td>\n",
       "    </tr>\n",
       "  </tbody>\n",
       "</table>\n",
       "</div>"
      ],
      "text/plain": [
       "         DISBURSAL_DATE  DISBURSAL_MONTH\n",
       "UNIQUEID                                \n",
       "420825       2018-03-08                3\n",
       "537409       2018-09-26                9\n",
       "417566       2018-01-08                1\n",
       "624493       2018-10-26               10\n",
       "539055       2018-09-26                9"
      ]
     },
     "execution_count": 19,
     "metadata": {},
     "output_type": "execute_result"
    }
   ],
   "source": [
    "# Disbursal Month \"DISBURSAL_MONTH\"\n",
    "loan_df['DISBURSAL_MONTH'] = loan_df['DISBURSAL_DATE'].dt.month\n",
    "\n",
    "loan_df[['DISBURSAL_DATE','DISBURSAL_MONTH']].head()"
   ]
  },
  {
   "cell_type": "code",
   "execution_count": 20,
   "metadata": {},
   "outputs": [
    {
     "data": {
      "text/plain": [
       "<AxesSubplot:xlabel='DISBURSAL_MONTH', ylabel='count'>"
      ]
     },
     "execution_count": 20,
     "metadata": {},
     "output_type": "execute_result"
    },
    {
     "data": {
      "image/png": "[encoded data removed]",
      "text/plain": [
       "<Figure size 640x480 with 1 Axes>"
      ]
     },
     "metadata": {},
     "output_type": "display_data"
    }
   ],
   "source": [
    "# Distribution of loan applications by month\n",
    "loan_df['DISBURSAL_MONTH'].value_counts()\n",
    "\n",
    "# Bar plot of loan applications by month\n",
    "sns.countplot(loan_df['DISBURSAL_MONTH'])"
   ]
  },
  {
   "attachments": {},
   "cell_type": "markdown",
   "metadata": {},
   "source": [
    "* The distribution of loan applications accross the different months is uneven "
   ]
  },
  {
   "cell_type": "code",
   "execution_count": 21,
   "metadata": {},
   "outputs": [],
   "source": [
    "# drop columns\n",
    "loan_df.drop(['DISBURSAL_DATE','DATE_OF_BIRTH'], axis=1, inplace=True)"
   ]
  },
  {
   "attachments": {},
   "cell_type": "markdown",
   "metadata": {},
   "source": [
    "#### CREDIT - *CREDIT_HISTORY_LENGTH\" and \"AVG_ACCT_AGE*"
   ]
  },
  {
   "cell_type": "code",
   "execution_count": 22,
   "metadata": {},
   "outputs": [
    {
     "data": {
      "text/html": [
       "<div>\n",
       "<style scoped>\n",
       "    .dataframe tbody tr th:only-of-type {\n",
       "        vertical-align: middle;\n",
       "    }\n",
       "\n",
       "    .dataframe tbody tr th {\n",
       "        vertical-align: top;\n",
       "    }\n",
       "\n",
       "    .dataframe thead th {\n",
       "        text-align: right;\n",
       "    }\n",
       "</style>\n",
       "<table border=\"1\" class=\"dataframe\">\n",
       "  <thead>\n",
       "    <tr style=\"text-align: right;\">\n",
       "      <th></th>\n",
       "      <th>CREDIT_HISTORY_LENGTH</th>\n",
       "      <th>AVERAGE_ACCT_AGE</th>\n",
       "    </tr>\n",
       "    <tr>\n",
       "      <th>UNIQUEID</th>\n",
       "      <th></th>\n",
       "      <th></th>\n",
       "    </tr>\n",
       "  </thead>\n",
       "  <tbody>\n",
       "    <tr>\n",
       "      <th>420825</th>\n",
       "      <td>0yrs 0mon</td>\n",
       "      <td>0yrs 0mon</td>\n",
       "    </tr>\n",
       "    <tr>\n",
       "      <th>537409</th>\n",
       "      <td>1yrs 11mon</td>\n",
       "      <td>1yrs 11mon</td>\n",
       "    </tr>\n",
       "    <tr>\n",
       "      <th>417566</th>\n",
       "      <td>0yrs 0mon</td>\n",
       "      <td>0yrs 0mon</td>\n",
       "    </tr>\n",
       "    <tr>\n",
       "      <th>624493</th>\n",
       "      <td>1yrs 3mon</td>\n",
       "      <td>0yrs 8mon</td>\n",
       "    </tr>\n",
       "    <tr>\n",
       "      <th>539055</th>\n",
       "      <td>0yrs 0mon</td>\n",
       "      <td>0yrs 0mon</td>\n",
       "    </tr>\n",
       "  </tbody>\n",
       "</table>\n",
       "</div>"
      ],
      "text/plain": [
       "         CREDIT_HISTORY_LENGTH AVERAGE_ACCT_AGE\n",
       "UNIQUEID                                       \n",
       "420825               0yrs 0mon        0yrs 0mon\n",
       "537409              1yrs 11mon       1yrs 11mon\n",
       "417566               0yrs 0mon        0yrs 0mon\n",
       "624493               1yrs 3mon        0yrs 8mon\n",
       "539055               0yrs 0mon        0yrs 0mon"
      ]
     },
     "execution_count": 22,
     "metadata": {},
     "output_type": "execute_result"
    }
   ],
   "source": [
    "# \"CREDIT_HISTORY_LENGTH\" and \"AVG_ACCT_AGE\"\n",
    "loan_df[['CREDIT_HISTORY_LENGTH','AVERAGE_ACCT_AGE']].head()"
   ]
  },
  {
   "cell_type": "code",
   "execution_count": 23,
   "metadata": {},
   "outputs": [
    {
     "data": {
      "text/html": [
       "<div>\n",
       "<style scoped>\n",
       "    .dataframe tbody tr th:only-of-type {\n",
       "        vertical-align: middle;\n",
       "    }\n",
       "\n",
       "    .dataframe tbody tr th {\n",
       "        vertical-align: top;\n",
       "    }\n",
       "\n",
       "    .dataframe thead th {\n",
       "        text-align: right;\n",
       "    }\n",
       "</style>\n",
       "<table border=\"1\" class=\"dataframe\">\n",
       "  <thead>\n",
       "    <tr style=\"text-align: right;\">\n",
       "      <th></th>\n",
       "      <th>CREDIT_HISTORY_LENGTH</th>\n",
       "      <th>AVERAGE_ACCT_AGE</th>\n",
       "      <th>CREDIT_HISTORY_LENGTH_IN_MONTHS</th>\n",
       "      <th>AVERAGE_ACCT_AGE_IN_MONTHS</th>\n",
       "    </tr>\n",
       "    <tr>\n",
       "      <th>UNIQUEID</th>\n",
       "      <th></th>\n",
       "      <th></th>\n",
       "      <th></th>\n",
       "      <th></th>\n",
       "    </tr>\n",
       "  </thead>\n",
       "  <tbody>\n",
       "    <tr>\n",
       "      <th>420825</th>\n",
       "      <td>0yrs 0mon</td>\n",
       "      <td>0yrs 0mon</td>\n",
       "      <td>0</td>\n",
       "      <td>0</td>\n",
       "    </tr>\n",
       "    <tr>\n",
       "      <th>537409</th>\n",
       "      <td>1yrs 11mon</td>\n",
       "      <td>1yrs 11mon</td>\n",
       "      <td>23</td>\n",
       "      <td>23</td>\n",
       "    </tr>\n",
       "    <tr>\n",
       "      <th>417566</th>\n",
       "      <td>0yrs 0mon</td>\n",
       "      <td>0yrs 0mon</td>\n",
       "      <td>0</td>\n",
       "      <td>0</td>\n",
       "    </tr>\n",
       "    <tr>\n",
       "      <th>624493</th>\n",
       "      <td>1yrs 3mon</td>\n",
       "      <td>0yrs 8mon</td>\n",
       "      <td>15</td>\n",
       "      <td>8</td>\n",
       "    </tr>\n",
       "    <tr>\n",
       "      <th>539055</th>\n",
       "      <td>0yrs 0mon</td>\n",
       "      <td>0yrs 0mon</td>\n",
       "      <td>0</td>\n",
       "      <td>0</td>\n",
       "    </tr>\n",
       "  </tbody>\n",
       "</table>\n",
       "</div>"
      ],
      "text/plain": [
       "         CREDIT_HISTORY_LENGTH AVERAGE_ACCT_AGE  \\\n",
       "UNIQUEID                                          \n",
       "420825               0yrs 0mon        0yrs 0mon   \n",
       "537409              1yrs 11mon       1yrs 11mon   \n",
       "417566               0yrs 0mon        0yrs 0mon   \n",
       "624493               1yrs 3mon        0yrs 8mon   \n",
       "539055               0yrs 0mon        0yrs 0mon   \n",
       "\n",
       "          CREDIT_HISTORY_LENGTH_IN_MONTHS  AVERAGE_ACCT_AGE_IN_MONTHS  \n",
       "UNIQUEID                                                               \n",
       "420825                                  0                           0  \n",
       "537409                                 23                          23  \n",
       "417566                                  0                           0  \n",
       "624493                                 15                           8  \n",
       "539055                                  0                           0  "
      ]
     },
     "execution_count": 23,
     "metadata": {},
     "output_type": "execute_result"
    }
   ],
   "source": [
    "# New Column \"AVERAGE_ACCT_AGE_IN_MONTHS\"\n",
    "loan_df['AVERAGE_ACCT_AGE_IN_MONTHS'] = loan_df['AVERAGE_ACCT_AGE'].apply(lambda x: int(x.split(' ')[0].split('yrs')[0])*12 + int(x.split(' ')[1].split('mon')[0]))\n",
    "\n",
    "# New Column \"CREDIT_HISTORY_LENGTH_IN_MONTHS\"\n",
    "loan_df['CREDIT_HISTORY_LENGTH_IN_MONTHS'] = loan_df['CREDIT_HISTORY_LENGTH'].apply(lambda x: int(x.split(' ')[0].split('yrs')[0])*12 + int(x.split(' ')[1].split('mon')[0]))\n",
    "\n",
    "# Checking the first 5 rows of the dataset\n",
    "loan_df[['CREDIT_HISTORY_LENGTH','AVERAGE_ACCT_AGE','CREDIT_HISTORY_LENGTH_IN_MONTHS','AVERAGE_ACCT_AGE_IN_MONTHS']].head()"
   ]
  },
  {
   "cell_type": "code",
   "execution_count": 24,
   "metadata": {},
   "outputs": [],
   "source": [
    "# Creating Function to convert \"CREDIT_HISTORY_LENGTH\" and \"AVG_ACCT_AGE\" to months\n",
    "def calc_months(str_list):\n",
    "    years = int(str_list[0].split('yrs')[0])\n",
    "    months = int(str_list[1].split('mon')[0])\n",
    "    total_months = years*12 + months\n",
    "    return total_months\n",
    "\n",
    "loan_df['AVERAGE_ACCT_AGE_IN_MONTHS'] = loan_df['AVERAGE_ACCT_AGE'].str.split(' ').apply(calc_months)"
   ]
  },
  {
   "cell_type": "code",
   "execution_count": 25,
   "metadata": {},
   "outputs": [],
   "source": [
    "# drop columns\n",
    "loan_df.drop(['CREDIT_HISTORY_LENGTH','AVERAGE_ACCT_AGE'], axis=1, inplace=True)"
   ]
  },
  {
   "cell_type": "code",
   "execution_count": 26,
   "metadata": {},
   "outputs": [
    {
     "data": {
      "text/plain": [
       "No Bureau History Available                                116950\n",
       "C-Very Low Risk                                             16045\n",
       "A-Very Low Risk                                             14124\n",
       "D-Very Low Risk                                             11358\n",
       "B-Very Low Risk                                              9201\n",
       "M-Very High Risk                                             8776\n",
       "F-Low Risk                                                   8485\n",
       "K-High Risk                                                  8277\n",
       "H-Medium Risk                                                6855\n",
       "E-Low Risk                                                   5821\n",
       "I-Medium Risk                                                5557\n",
       "G-Low Risk                                                   3988\n",
       "Not Scored: Sufficient History Not Available                 3765\n",
       "J-High Risk                                                  3748\n",
       "Not Scored: Not Enough Info available on the customer        3672\n",
       "Not Scored: No Activity seen on the customer (Inactive)      2885\n",
       "Not Scored: No Updates available in last 36 months           1534\n",
       "L-Very High Risk                                             1134\n",
       "Not Scored: Only a Guarantor                                  976\n",
       "Not Scored: More than 50 active Accounts found                  3\n",
       "Name: PERFORM_CNS_SCORE_DESCRIPTION, dtype: int64"
      ]
     },
     "execution_count": 26,
     "metadata": {},
     "output_type": "execute_result"
    }
   ],
   "source": [
    "loan_df[\"PERFORM_CNS_SCORE_DESCRIPTION\"].value_counts()"
   ]
  },
  {
   "cell_type": "code",
   "execution_count": 27,
   "metadata": {},
   "outputs": [],
   "source": [
    "# save cleaned dataset\n",
    "# loan_df.to_csv('/home/bravin/Documents/Loan Default Prediction Model/vehicle_loans_cleaned.csv')"
   ]
  },
  {
   "attachments": {},
   "cell_type": "markdown",
   "metadata": {},
   "source": [
    "# Exploratory Data Analysis"
   ]
  },
  {
   "cell_type": "code",
   "execution_count": 28,
   "metadata": {},
   "outputs": [
    {
     "data": {
      "text/html": [
       "<div>\n",
       "<style scoped>\n",
       "    .dataframe tbody tr th:only-of-type {\n",
       "        vertical-align: middle;\n",
       "    }\n",
       "\n",
       "    .dataframe tbody tr th {\n",
       "        vertical-align: top;\n",
       "    }\n",
       "\n",
       "    .dataframe thead th {\n",
       "        text-align: right;\n",
       "    }\n",
       "</style>\n",
       "<table border=\"1\" class=\"dataframe\">\n",
       "  <thead>\n",
       "    <tr style=\"text-align: right;\">\n",
       "      <th></th>\n",
       "      <th>DISBURSED_AMOUNT</th>\n",
       "      <th>ASSET_COST</th>\n",
       "      <th>LTV</th>\n",
       "      <th>BRANCH_ID</th>\n",
       "      <th>SUPPLIER_ID</th>\n",
       "      <th>MANUFACTURER_ID</th>\n",
       "      <th>CURRENT_PINCODE_ID</th>\n",
       "      <th>EMPLOYMENT_TYPE</th>\n",
       "      <th>STATE_ID</th>\n",
       "      <th>EMPLOYEE_CODE_ID</th>\n",
       "      <th>...</th>\n",
       "      <th>PRIMARY_INSTAL_AMT</th>\n",
       "      <th>SEC_INSTAL_AMT</th>\n",
       "      <th>NEW_ACCTS_IN_LAST_SIX_MONTHS</th>\n",
       "      <th>DELINQUENT_ACCTS_IN_LAST_SIX_MONTHS</th>\n",
       "      <th>NO_OF_INQUIRIES</th>\n",
       "      <th>LOAN_DEFAULT</th>\n",
       "      <th>AGE</th>\n",
       "      <th>DISBURSAL_MONTH</th>\n",
       "      <th>AVERAGE_ACCT_AGE_IN_MONTHS</th>\n",
       "      <th>CREDIT_HISTORY_LENGTH_IN_MONTHS</th>\n",
       "    </tr>\n",
       "    <tr>\n",
       "      <th>UNIQUEID</th>\n",
       "      <th></th>\n",
       "      <th></th>\n",
       "      <th></th>\n",
       "      <th></th>\n",
       "      <th></th>\n",
       "      <th></th>\n",
       "      <th></th>\n",
       "      <th></th>\n",
       "      <th></th>\n",
       "      <th></th>\n",
       "      <th></th>\n",
       "      <th></th>\n",
       "      <th></th>\n",
       "      <th></th>\n",
       "      <th></th>\n",
       "      <th></th>\n",
       "      <th></th>\n",
       "      <th></th>\n",
       "      <th></th>\n",
       "      <th></th>\n",
       "      <th></th>\n",
       "    </tr>\n",
       "  </thead>\n",
       "  <tbody>\n",
       "    <tr>\n",
       "      <th>420825</th>\n",
       "      <td>50578</td>\n",
       "      <td>58400</td>\n",
       "      <td>89.55</td>\n",
       "      <td>67</td>\n",
       "      <td>22807</td>\n",
       "      <td>45</td>\n",
       "      <td>1441</td>\n",
       "      <td>Salaried</td>\n",
       "      <td>6</td>\n",
       "      <td>1998</td>\n",
       "      <td>...</td>\n",
       "      <td>0</td>\n",
       "      <td>0</td>\n",
       "      <td>0</td>\n",
       "      <td>0</td>\n",
       "      <td>0</td>\n",
       "      <td>NO</td>\n",
       "      <td>34</td>\n",
       "      <td>3</td>\n",
       "      <td>0</td>\n",
       "      <td>0</td>\n",
       "    </tr>\n",
       "    <tr>\n",
       "      <th>537409</th>\n",
       "      <td>47145</td>\n",
       "      <td>65550</td>\n",
       "      <td>73.23</td>\n",
       "      <td>67</td>\n",
       "      <td>22807</td>\n",
       "      <td>45</td>\n",
       "      <td>1502</td>\n",
       "      <td>Self employed</td>\n",
       "      <td>6</td>\n",
       "      <td>1998</td>\n",
       "      <td>...</td>\n",
       "      <td>1991</td>\n",
       "      <td>0</td>\n",
       "      <td>0</td>\n",
       "      <td>1</td>\n",
       "      <td>0</td>\n",
       "      <td>YES</td>\n",
       "      <td>33</td>\n",
       "      <td>9</td>\n",
       "      <td>23</td>\n",
       "      <td>23</td>\n",
       "    </tr>\n",
       "    <tr>\n",
       "      <th>417566</th>\n",
       "      <td>53278</td>\n",
       "      <td>61360</td>\n",
       "      <td>89.63</td>\n",
       "      <td>67</td>\n",
       "      <td>22807</td>\n",
       "      <td>45</td>\n",
       "      <td>1497</td>\n",
       "      <td>Self employed</td>\n",
       "      <td>6</td>\n",
       "      <td>1998</td>\n",
       "      <td>...</td>\n",
       "      <td>0</td>\n",
       "      <td>0</td>\n",
       "      <td>0</td>\n",
       "      <td>0</td>\n",
       "      <td>0</td>\n",
       "      <td>NO</td>\n",
       "      <td>33</td>\n",
       "      <td>1</td>\n",
       "      <td>0</td>\n",
       "      <td>0</td>\n",
       "    </tr>\n",
       "    <tr>\n",
       "      <th>624493</th>\n",
       "      <td>57513</td>\n",
       "      <td>66113</td>\n",
       "      <td>88.48</td>\n",
       "      <td>67</td>\n",
       "      <td>22807</td>\n",
       "      <td>45</td>\n",
       "      <td>1501</td>\n",
       "      <td>Self employed</td>\n",
       "      <td>6</td>\n",
       "      <td>1998</td>\n",
       "      <td>...</td>\n",
       "      <td>31</td>\n",
       "      <td>0</td>\n",
       "      <td>0</td>\n",
       "      <td>0</td>\n",
       "      <td>1</td>\n",
       "      <td>YES</td>\n",
       "      <td>25</td>\n",
       "      <td>10</td>\n",
       "      <td>8</td>\n",
       "      <td>15</td>\n",
       "    </tr>\n",
       "    <tr>\n",
       "      <th>539055</th>\n",
       "      <td>52378</td>\n",
       "      <td>60300</td>\n",
       "      <td>88.39</td>\n",
       "      <td>67</td>\n",
       "      <td>22807</td>\n",
       "      <td>45</td>\n",
       "      <td>1495</td>\n",
       "      <td>Self employed</td>\n",
       "      <td>6</td>\n",
       "      <td>1998</td>\n",
       "      <td>...</td>\n",
       "      <td>0</td>\n",
       "      <td>0</td>\n",
       "      <td>0</td>\n",
       "      <td>0</td>\n",
       "      <td>1</td>\n",
       "      <td>YES</td>\n",
       "      <td>41</td>\n",
       "      <td>9</td>\n",
       "      <td>0</td>\n",
       "      <td>0</td>\n",
       "    </tr>\n",
       "  </tbody>\n",
       "</table>\n",
       "<p>5 rows × 40 columns</p>\n",
       "</div>"
      ],
      "text/plain": [
       "          DISBURSED_AMOUNT  ASSET_COST    LTV  BRANCH_ID  SUPPLIER_ID  \\\n",
       "UNIQUEID                                                                \n",
       "420825               50578       58400  89.55         67        22807   \n",
       "537409               47145       65550  73.23         67        22807   \n",
       "417566               53278       61360  89.63         67        22807   \n",
       "624493               57513       66113  88.48         67        22807   \n",
       "539055               52378       60300  88.39         67        22807   \n",
       "\n",
       "          MANUFACTURER_ID  CURRENT_PINCODE_ID EMPLOYMENT_TYPE  STATE_ID  \\\n",
       "UNIQUEID                                                                  \n",
       "420825                 45                1441        Salaried         6   \n",
       "537409                 45                1502   Self employed         6   \n",
       "417566                 45                1497   Self employed         6   \n",
       "624493                 45                1501   Self employed         6   \n",
       "539055                 45                1495   Self employed         6   \n",
       "\n",
       "          EMPLOYEE_CODE_ID  ...  PRIMARY_INSTAL_AMT  SEC_INSTAL_AMT  \\\n",
       "UNIQUEID                    ...                                       \n",
       "420825                1998  ...                   0               0   \n",
       "537409                1998  ...                1991               0   \n",
       "417566                1998  ...                   0               0   \n",
       "624493                1998  ...                  31               0   \n",
       "539055                1998  ...                   0               0   \n",
       "\n",
       "          NEW_ACCTS_IN_LAST_SIX_MONTHS  DELINQUENT_ACCTS_IN_LAST_SIX_MONTHS  \\\n",
       "UNIQUEID                                                                      \n",
       "420825                               0                                    0   \n",
       "537409                               0                                    1   \n",
       "417566                               0                                    0   \n",
       "624493                               0                                    0   \n",
       "539055                               0                                    0   \n",
       "\n",
       "          NO_OF_INQUIRIES  LOAN_DEFAULT  AGE DISBURSAL_MONTH  \\\n",
       "UNIQUEID                                                       \n",
       "420825                  0            NO   34               3   \n",
       "537409                  0           YES   33               9   \n",
       "417566                  0            NO   33               1   \n",
       "624493                  1           YES   25              10   \n",
       "539055                  1           YES   41               9   \n",
       "\n",
       "          AVERAGE_ACCT_AGE_IN_MONTHS  CREDIT_HISTORY_LENGTH_IN_MONTHS  \n",
       "UNIQUEID                                                               \n",
       "420825                             0                                0  \n",
       "537409                            23                               23  \n",
       "417566                             0                                0  \n",
       "624493                             8                               15  \n",
       "539055                             0                                0  \n",
       "\n",
       "[5 rows x 40 columns]"
      ]
     },
     "execution_count": 28,
     "metadata": {},
     "output_type": "execute_result"
    }
   ],
   "source": [
    "# load cleaned dataset\n",
    "loan_df_cleaned  = pd.read_csv('/home/bravin/Documents/Loan Default Prediction Model/vehicle_loans_cleaned.csv', index_col=\"UNIQUEID\")\n",
    "\n",
    "# Checking the first 5 rows of the dataset\n",
    "loan_df_cleaned.head()"
   ]
  },
  {
   "cell_type": "code",
   "execution_count": 29,
   "metadata": {},
   "outputs": [
    {
     "name": "stdout",
     "output_type": "stream",
     "text": [
      "<class 'pandas.core.frame.DataFrame'>\n",
      "Int64Index: 233154 entries, 420825 to 630213\n",
      "Data columns (total 40 columns):\n",
      " #   Column                               Non-Null Count   Dtype  \n",
      "---  ------                               --------------   -----  \n",
      " 0   DISBURSED_AMOUNT                     233154 non-null  int64  \n",
      " 1   ASSET_COST                           233154 non-null  int64  \n",
      " 2   LTV                                  233154 non-null  float64\n",
      " 3   BRANCH_ID                            233154 non-null  int64  \n",
      " 4   SUPPLIER_ID                          233154 non-null  int64  \n",
      " 5   MANUFACTURER_ID                      233154 non-null  int64  \n",
      " 6   CURRENT_PINCODE_ID                   233154 non-null  int64  \n",
      " 7   EMPLOYMENT_TYPE                      233154 non-null  object \n",
      " 8   STATE_ID                             233154 non-null  int64  \n",
      " 9   EMPLOYEE_CODE_ID                     233154 non-null  int64  \n",
      " 10  MOBILENO_AVL_FLAG                    233154 non-null  int64  \n",
      " 11  AADHAR_FLAG                          233154 non-null  int64  \n",
      " 12  PAN_FLAG                             233154 non-null  int64  \n",
      " 13  VOTERID_FLAG                         233154 non-null  int64  \n",
      " 14  DRIVING_FLAG                         233154 non-null  int64  \n",
      " 15  PASSPORT_FLAG                        233154 non-null  int64  \n",
      " 16  PERFORM_CNS_SCORE                    233154 non-null  int64  \n",
      " 17  PERFORM_CNS_SCORE_DESCRIPTION        233154 non-null  object \n",
      " 18  PRI_NO_OF_ACCTS                      233154 non-null  int64  \n",
      " 19  PRI_ACTIVE_ACCTS                     233154 non-null  int64  \n",
      " 20  PRI_OVERDUE_ACCTS                    233154 non-null  int64  \n",
      " 21  PRI_CURRENT_BALANCE                  233154 non-null  int64  \n",
      " 22  PRI_SANCTIONED_AMOUNT                233154 non-null  int64  \n",
      " 23  PRI_DISBURSED_AMOUNT                 233154 non-null  int64  \n",
      " 24  SEC_NO_OF_ACCTS                      233154 non-null  int64  \n",
      " 25  SEC_ACTIVE_ACCTS                     233154 non-null  int64  \n",
      " 26  SEC_OVERDUE_ACCTS                    233154 non-null  int64  \n",
      " 27  SEC_CURRENT_BALANCE                  233154 non-null  int64  \n",
      " 28  SEC_SANCTIONED_AMOUNT                233154 non-null  int64  \n",
      " 29  SEC_DISBURSED_AMOUNT                 233154 non-null  int64  \n",
      " 30  PRIMARY_INSTAL_AMT                   233154 non-null  int64  \n",
      " 31  SEC_INSTAL_AMT                       233154 non-null  int64  \n",
      " 32  NEW_ACCTS_IN_LAST_SIX_MONTHS         233154 non-null  int64  \n",
      " 33  DELINQUENT_ACCTS_IN_LAST_SIX_MONTHS  233154 non-null  int64  \n",
      " 34  NO_OF_INQUIRIES                      233154 non-null  int64  \n",
      " 35  LOAN_DEFAULT                         233154 non-null  object \n",
      " 36  AGE                                  233154 non-null  int64  \n",
      " 37  DISBURSAL_MONTH                      233154 non-null  int64  \n",
      " 38  AVERAGE_ACCT_AGE_IN_MONTHS           233154 non-null  int64  \n",
      " 39  CREDIT_HISTORY_LENGTH_IN_MONTHS      233154 non-null  int64  \n",
      "dtypes: float64(1), int64(36), object(3)\n",
      "memory usage: 72.9+ MB\n"
     ]
    }
   ],
   "source": [
    "# Checking info of the dataset\n",
    "loan_df_cleaned.info()"
   ]
  },
  {
   "cell_type": "code",
   "execution_count": 30,
   "metadata": {},
   "outputs": [
    {
     "data": {
      "text/plain": [
       "DISBURSED_AMOUNT                       24565\n",
       "ASSET_COST                             46252\n",
       "LTV                                     6579\n",
       "BRANCH_ID                                 82\n",
       "SUPPLIER_ID                             2953\n",
       "MANUFACTURER_ID                           11\n",
       "CURRENT_PINCODE_ID                      6698\n",
       "EMPLOYMENT_TYPE                            3\n",
       "STATE_ID                                  22\n",
       "EMPLOYEE_CODE_ID                        3270\n",
       "MOBILENO_AVL_FLAG                          1\n",
       "AADHAR_FLAG                                2\n",
       "PAN_FLAG                                   2\n",
       "VOTERID_FLAG                               2\n",
       "DRIVING_FLAG                               2\n",
       "PASSPORT_FLAG                              2\n",
       "PERFORM_CNS_SCORE                        573\n",
       "PERFORM_CNS_SCORE_DESCRIPTION             20\n",
       "PRI_NO_OF_ACCTS                          108\n",
       "PRI_ACTIVE_ACCTS                          40\n",
       "PRI_OVERDUE_ACCTS                         22\n",
       "PRI_CURRENT_BALANCE                    71341\n",
       "PRI_SANCTIONED_AMOUNT                  44390\n",
       "PRI_DISBURSED_AMOUNT                   47909\n",
       "SEC_NO_OF_ACCTS                           37\n",
       "SEC_ACTIVE_ACCTS                          23\n",
       "SEC_OVERDUE_ACCTS                          9\n",
       "SEC_CURRENT_BALANCE                     3246\n",
       "SEC_SANCTIONED_AMOUNT                   2223\n",
       "SEC_DISBURSED_AMOUNT                    2553\n",
       "PRIMARY_INSTAL_AMT                     28067\n",
       "SEC_INSTAL_AMT                          1918\n",
       "NEW_ACCTS_IN_LAST_SIX_MONTHS              26\n",
       "DELINQUENT_ACCTS_IN_LAST_SIX_MONTHS       14\n",
       "NO_OF_INQUIRIES                           25\n",
       "LOAN_DEFAULT                               2\n",
       "AGE                                       48\n",
       "DISBURSAL_MONTH                           12\n",
       "AVERAGE_ACCT_AGE_IN_MONTHS               192\n",
       "CREDIT_HISTORY_LENGTH_IN_MONTHS          294\n",
       "dtype: int64"
      ]
     },
     "execution_count": 30,
     "metadata": {},
     "output_type": "execute_result"
    }
   ],
   "source": [
    "# investingating unique values in the dataset\n",
    "loan_df_cleaned.nunique()"
   ]
  },
  {
   "cell_type": "code",
   "execution_count": 31,
   "metadata": {},
   "outputs": [
    {
     "data": {
      "text/plain": [
       "1    233154\n",
       "Name: MOBILENO_AVL_FLAG, dtype: int64"
      ]
     },
     "execution_count": 31,
     "metadata": {},
     "output_type": "execute_result"
    }
   ],
   "source": [
    "# cheking mobileno_avl_flag column\n",
    "loan_df_cleaned['MOBILENO_AVL_FLAG'].value_counts()"
   ]
  },
  {
   "attachments": {},
   "cell_type": "markdown",
   "metadata": {},
   "source": [
    "* Every column has ```1``` value \n",
    "* Has no predictive value so we can drop it "
   ]
  },
  {
   "cell_type": "code",
   "execution_count": 32,
   "metadata": {},
   "outputs": [],
   "source": [
    "# drop MOBILENO_AVL_FLAG column\n",
    "loan_df_cleaned.drop('MOBILENO_AVL_FLAG', axis=1, inplace=True)"
   ]
  },
  {
   "cell_type": "code",
   "execution_count": 33,
   "metadata": {},
   "outputs": [
    {
     "data": {
      "text/html": [
       "<div>\n",
       "<style scoped>\n",
       "    .dataframe tbody tr th:only-of-type {\n",
       "        vertical-align: middle;\n",
       "    }\n",
       "\n",
       "    .dataframe tbody tr th {\n",
       "        vertical-align: top;\n",
       "    }\n",
       "\n",
       "    .dataframe thead th {\n",
       "        text-align: right;\n",
       "    }\n",
       "</style>\n",
       "<table border=\"1\" class=\"dataframe\">\n",
       "  <thead>\n",
       "    <tr style=\"text-align: right;\">\n",
       "      <th></th>\n",
       "      <th>SUPPLIER_ID</th>\n",
       "      <th>CURRENT_PINCODE_ID</th>\n",
       "      <th>EMPLOYEE_CODE_ID</th>\n",
       "      <th>BRANCH_ID</th>\n",
       "      <th>STATE_ID</th>\n",
       "      <th>MANUFACTURER_ID</th>\n",
       "    </tr>\n",
       "    <tr>\n",
       "      <th>UNIQUEID</th>\n",
       "      <th></th>\n",
       "      <th></th>\n",
       "      <th></th>\n",
       "      <th></th>\n",
       "      <th></th>\n",
       "      <th></th>\n",
       "    </tr>\n",
       "  </thead>\n",
       "  <tbody>\n",
       "    <tr>\n",
       "      <th>420825</th>\n",
       "      <td>22807</td>\n",
       "      <td>1441</td>\n",
       "      <td>1998</td>\n",
       "      <td>67</td>\n",
       "      <td>6</td>\n",
       "      <td>45</td>\n",
       "    </tr>\n",
       "    <tr>\n",
       "      <th>537409</th>\n",
       "      <td>22807</td>\n",
       "      <td>1502</td>\n",
       "      <td>1998</td>\n",
       "      <td>67</td>\n",
       "      <td>6</td>\n",
       "      <td>45</td>\n",
       "    </tr>\n",
       "    <tr>\n",
       "      <th>417566</th>\n",
       "      <td>22807</td>\n",
       "      <td>1497</td>\n",
       "      <td>1998</td>\n",
       "      <td>67</td>\n",
       "      <td>6</td>\n",
       "      <td>45</td>\n",
       "    </tr>\n",
       "    <tr>\n",
       "      <th>624493</th>\n",
       "      <td>22807</td>\n",
       "      <td>1501</td>\n",
       "      <td>1998</td>\n",
       "      <td>67</td>\n",
       "      <td>6</td>\n",
       "      <td>45</td>\n",
       "    </tr>\n",
       "    <tr>\n",
       "      <th>539055</th>\n",
       "      <td>22807</td>\n",
       "      <td>1495</td>\n",
       "      <td>1998</td>\n",
       "      <td>67</td>\n",
       "      <td>6</td>\n",
       "      <td>45</td>\n",
       "    </tr>\n",
       "  </tbody>\n",
       "</table>\n",
       "</div>"
      ],
      "text/plain": [
       "          SUPPLIER_ID  CURRENT_PINCODE_ID  EMPLOYEE_CODE_ID  BRANCH_ID  \\\n",
       "UNIQUEID                                                                 \n",
       "420825          22807                1441              1998         67   \n",
       "537409          22807                1502              1998         67   \n",
       "417566          22807                1497              1998         67   \n",
       "624493          22807                1501              1998         67   \n",
       "539055          22807                1495              1998         67   \n",
       "\n",
       "          STATE_ID  MANUFACTURER_ID  \n",
       "UNIQUEID                             \n",
       "420825           6               45  \n",
       "537409           6               45  \n",
       "417566           6               45  \n",
       "624493           6               45  \n",
       "539055           6               45  "
      ]
     },
     "execution_count": 33,
     "metadata": {},
     "output_type": "execute_result"
    }
   ],
   "source": [
    "# ID columns\n",
    "loan_df_cleaned[['SUPPLIER_ID','CURRENT_PINCODE_ID','EMPLOYEE_CODE_ID','BRANCH_ID','STATE_ID',\"MANUFACTURER_ID\"]].head()\n"
   ]
  },
  {
   "attachments": {},
   "cell_type": "markdown",
   "metadata": {},
   "source": [
    "* Drop the ID Columns since they have no value to our final model and will bring complexities to our final model."
   ]
  },
  {
   "cell_type": "code",
   "execution_count": 34,
   "metadata": {},
   "outputs": [],
   "source": [
    "# drop ID columns\n",
    "loan_df_cleaned.drop(['SUPPLIER_ID','CURRENT_PINCODE_ID','EMPLOYEE_CODE_ID','BRANCH_ID'], axis=1, inplace=True)"
   ]
  },
  {
   "attachments": {},
   "cell_type": "markdown",
   "metadata": {},
   "source": [
    "# EXPLORING CATEGORICAL VARIABLES \n",
    "#### MANUFACTURER_ID"
   ]
  },
  {
   "cell_type": "code",
   "execution_count": 35,
   "metadata": {},
   "outputs": [],
   "source": [
    "# explore categorical variables\n",
    "def explore_cat_var(var):\n",
    "    print(loan_df_cleaned[var].value_counts())\n",
    "    print(\"\\n\")\n",
    "\n",
    "    print(loan_df_cleaned[var].value_counts(normalize=True))\n",
    "    sns.countplot(loan_df_cleaned[var])\n",
    "    plt.show()\n",
    "    print(\"\\n\")\n",
    "\n",
    "    print(loan_df_cleaned.groupby(var)['LOAN_DEFAULT'].value_counts(normalize=True))\n",
    "    print(\"\\n\")\n",
    "\n",
    "    print(loan_df_cleaned.groupby(var)['LOAN_DEFAULT'].value_counts(normalize=True).unstack())\n",
    "    print(\"\\n\")\n",
    "    \n",
    "    sns.catplot(x=var, hue='LOAN_DEFAULT', kind='count', data=loan_df_cleaned)\n",
    "    plt.show()"
   ]
  },
  {
   "cell_type": "code",
   "execution_count": 36,
   "metadata": {},
   "outputs": [
    {
     "name": "stdout",
     "output_type": "stream",
     "text": [
      "86     109534\n",
      "45      56626\n",
      "51      27204\n",
      "48      16710\n",
      "49      10220\n",
      "120      9658\n",
      "67       2405\n",
      "145       778\n",
      "153        12\n",
      "152         6\n",
      "156         1\n",
      "Name: MANUFACTURER_ID, dtype: int64\n",
      "\n",
      "\n",
      "86     0.469792\n",
      "45     0.242870\n",
      "51     0.116678\n",
      "48     0.071669\n",
      "49     0.043834\n",
      "120    0.041423\n",
      "67     0.010315\n",
      "145    0.003337\n",
      "153    0.000051\n",
      "152    0.000026\n",
      "156    0.000004\n",
      "Name: MANUFACTURER_ID, dtype: float64\n"
     ]
    },
    {
     "data": {
      "image/png": "[encoded data removed]",
      "text/plain": [
       "<Figure size 640x480 with 1 Axes>"
      ]
     },
     "metadata": {},
     "output_type": "display_data"
    },
    {
     "name": "stdout",
     "output_type": "stream",
     "text": [
      "\n",
      "\n",
      "MANUFACTURER_ID  LOAN_DEFAULT\n",
      "45               NO              0.771501\n",
      "                 YES             0.228499\n",
      "48               NO              0.727469\n",
      "                 YES             0.272531\n",
      "49               NO              0.781213\n",
      "                 YES             0.218787\n",
      "51               NO              0.792053\n",
      "                 YES             0.207947\n",
      "67               NO              0.782536\n",
      "                 YES             0.217464\n",
      "86               NO              0.795406\n",
      "                 YES             0.204594\n",
      "120              NO              0.779250\n",
      "                 YES             0.220750\n",
      "145              NO              0.799486\n",
      "                 YES             0.200514\n",
      "152              NO              1.000000\n",
      "153              NO              0.666667\n",
      "                 YES             0.333333\n",
      "156              NO              1.000000\n",
      "Name: LOAN_DEFAULT, dtype: float64\n",
      "\n",
      "\n",
      "LOAN_DEFAULT           NO       YES\n",
      "MANUFACTURER_ID                    \n",
      "45               0.771501  0.228499\n",
      "48               0.727469  0.272531\n",
      "49               0.781213  0.218787\n",
      "51               0.792053  0.207947\n",
      "67               0.782536  0.217464\n",
      "86               0.795406  0.204594\n",
      "120              0.779250  0.220750\n",
      "145              0.799486  0.200514\n",
      "152              1.000000       NaN\n",
      "153              0.666667  0.333333\n",
      "156              1.000000       NaN\n",
      "\n",
      "\n"
     ]
    },
    {
     "data": {
      "image/png": "[encoded data removed]",
      "text/plain": [
       "<Figure size 616.361x500 with 1 Axes>"
      ]
     },
     "metadata": {},
     "output_type": "display_data"
    }
   ],
   "source": [
    "explore_cat_var('MANUFACTURER_ID')"
   ]
  },
  {
   "attachments": {},
   "cell_type": "markdown",
   "metadata": {},
   "source": [
    "* The MANUFACTURER_ID has ```12``` unique values\n",
    "* Most Vehicles are bought from MANUFACTURER_ID ```86``` & ```45```"
   ]
  },
  {
   "attachments": {},
   "cell_type": "markdown",
   "metadata": {},
   "source": [
    "* Loans from manufacturer ```48``` has the highest default rates at ```27.25%```\n",
    "* The manufacturer with ID ```86``` has the lowest default rate of ```0.12%```\n",
    "* The manufacturer ```152``` and ```156``` do not have any car loans defaulted "
   ]
  },
  {
   "cell_type": "code",
   "execution_count": 37,
   "metadata": {},
   "outputs": [
    {
     "data": {
      "text/html": [
       "<div>\n",
       "<style scoped>\n",
       "    .dataframe tbody tr th:only-of-type {\n",
       "        vertical-align: middle;\n",
       "    }\n",
       "\n",
       "    .dataframe tbody tr th {\n",
       "        vertical-align: top;\n",
       "    }\n",
       "\n",
       "    .dataframe thead th {\n",
       "        text-align: right;\n",
       "    }\n",
       "</style>\n",
       "<table border=\"1\" class=\"dataframe\">\n",
       "  <thead>\n",
       "    <tr style=\"text-align: right;\">\n",
       "      <th></th>\n",
       "      <th>EMPLOYMENT_TYPE</th>\n",
       "      <th>PERFORM_CNS_SCORE_DESCRIPTION</th>\n",
       "      <th>STATE_ID</th>\n",
       "      <th>DISBURSAL_MONTH</th>\n",
       "    </tr>\n",
       "    <tr>\n",
       "      <th>UNIQUEID</th>\n",
       "      <th></th>\n",
       "      <th></th>\n",
       "      <th></th>\n",
       "      <th></th>\n",
       "    </tr>\n",
       "  </thead>\n",
       "  <tbody>\n",
       "    <tr>\n",
       "      <th>420825</th>\n",
       "      <td>Salaried</td>\n",
       "      <td>No Bureau History Available</td>\n",
       "      <td>6</td>\n",
       "      <td>3</td>\n",
       "    </tr>\n",
       "    <tr>\n",
       "      <th>537409</th>\n",
       "      <td>Self employed</td>\n",
       "      <td>I-Medium Risk</td>\n",
       "      <td>6</td>\n",
       "      <td>9</td>\n",
       "    </tr>\n",
       "    <tr>\n",
       "      <th>417566</th>\n",
       "      <td>Self employed</td>\n",
       "      <td>No Bureau History Available</td>\n",
       "      <td>6</td>\n",
       "      <td>1</td>\n",
       "    </tr>\n",
       "    <tr>\n",
       "      <th>624493</th>\n",
       "      <td>Self employed</td>\n",
       "      <td>L-Very High Risk</td>\n",
       "      <td>6</td>\n",
       "      <td>10</td>\n",
       "    </tr>\n",
       "    <tr>\n",
       "      <th>539055</th>\n",
       "      <td>Self employed</td>\n",
       "      <td>No Bureau History Available</td>\n",
       "      <td>6</td>\n",
       "      <td>9</td>\n",
       "    </tr>\n",
       "  </tbody>\n",
       "</table>\n",
       "</div>"
      ],
      "text/plain": [
       "         EMPLOYMENT_TYPE PERFORM_CNS_SCORE_DESCRIPTION  STATE_ID  \\\n",
       "UNIQUEID                                                           \n",
       "420825          Salaried   No Bureau History Available         6   \n",
       "537409     Self employed                 I-Medium Risk         6   \n",
       "417566     Self employed   No Bureau History Available         6   \n",
       "624493     Self employed              L-Very High Risk         6   \n",
       "539055     Self employed   No Bureau History Available         6   \n",
       "\n",
       "          DISBURSAL_MONTH  \n",
       "UNIQUEID                   \n",
       "420825                  3  \n",
       "537409                  9  \n",
       "417566                  1  \n",
       "624493                 10  \n",
       "539055                  9  "
      ]
     },
     "execution_count": 37,
     "metadata": {},
     "output_type": "execute_result"
    }
   ],
   "source": [
    "# checking the EMPLOYMENT_TYPE,PERFORM_CNS_SCORE_DESCRIPTION,STATE_ID,DISBURSAL_MONTH\n",
    "loan_df_cleaned[['EMPLOYMENT_TYPE','PERFORM_CNS_SCORE_DESCRIPTION','STATE_ID','DISBURSAL_MONTH']].head()"
   ]
  },
  {
   "attachments": {},
   "cell_type": "markdown",
   "metadata": {},
   "source": [
    "### DISBURSAL_MONTH"
   ]
  },
  {
   "cell_type": "code",
   "execution_count": 38,
   "metadata": {},
   "outputs": [
    {
     "name": "stdout",
     "output_type": "stream",
     "text": [
      "10    84875\n",
      "8     56975\n",
      "9     54443\n",
      "11     6709\n",
      "6      5991\n",
      "12     5613\n",
      "3      5148\n",
      "4      4627\n",
      "7      4150\n",
      "5      2890\n",
      "1      1708\n",
      "2        25\n",
      "Name: DISBURSAL_MONTH, dtype: int64\n",
      "\n",
      "\n",
      "10    0.364030\n",
      "8     0.244366\n",
      "9     0.233507\n",
      "11    0.028775\n",
      "6     0.025695\n",
      "12    0.024074\n",
      "3     0.022080\n",
      "4     0.019845\n",
      "7     0.017799\n",
      "5     0.012395\n",
      "1     0.007326\n",
      "2     0.000107\n",
      "Name: DISBURSAL_MONTH, dtype: float64\n"
     ]
    },
    {
     "data": {
      "image/png": "[encoded data removed]",
      "text/plain": [
       "<Figure size 640x480 with 1 Axes>"
      ]
     },
     "metadata": {},
     "output_type": "display_data"
    },
    {
     "name": "stdout",
     "output_type": "stream",
     "text": [
      "\n",
      "\n",
      "DISBURSAL_MONTH  LOAN_DEFAULT\n",
      "1                NO              0.770492\n",
      "                 YES             0.229508\n",
      "2                NO              0.920000\n",
      "                 YES             0.080000\n",
      "3                NO              0.795260\n",
      "                 YES             0.204740\n",
      "4                NO              0.785822\n",
      "                 YES             0.214178\n",
      "5                NO              0.788581\n",
      "                 YES             0.211419\n",
      "6                NO              0.784009\n",
      "                 YES             0.215991\n",
      "7                NO              0.776386\n",
      "                 YES             0.223614\n",
      "8                NO              0.788732\n",
      "                 YES             0.211268\n",
      "9                NO              0.806532\n",
      "                 YES             0.193468\n",
      "10               NO              0.759635\n",
      "                 YES             0.240365\n",
      "11               NO              0.817409\n",
      "                 YES             0.182591\n",
      "12               NO              0.796366\n",
      "                 YES             0.203634\n",
      "Name: LOAN_DEFAULT, dtype: float64\n",
      "\n",
      "\n",
      "LOAN_DEFAULT           NO       YES\n",
      "DISBURSAL_MONTH                    \n",
      "1                0.770492  0.229508\n",
      "2                0.920000  0.080000\n",
      "3                0.795260  0.204740\n",
      "4                0.785822  0.214178\n",
      "5                0.788581  0.211419\n",
      "6                0.784009  0.215991\n",
      "7                0.776386  0.223614\n",
      "8                0.788732  0.211268\n",
      "9                0.806532  0.193468\n",
      "10               0.759635  0.240365\n",
      "11               0.817409  0.182591\n",
      "12               0.796366  0.203634\n",
      "\n",
      "\n"
     ]
    },
    {
     "data": {
      "image/png": "[encoded data removed]",
      "text/plain": [
       "<Figure size 616.361x500 with 1 Axes>"
      ]
     },
     "metadata": {},
     "output_type": "display_data"
    }
   ],
   "source": [
    "explore_cat_var('DISBURSAL_MONTH')"
   ]
  },
  {
   "attachments": {},
   "cell_type": "markdown",
   "metadata": {},
   "source": [
    "* The month of disbursal has no impact on the loan default\n",
    "* The month of disbursal is not a good predictor for the loan default\n",
    "* Loans Disbursed in October have the highest default rate at ```24%```\n",
    "* Mjority of the loans were disbursed in ```August```, ```September``` and ```October```\n",
    "* Hence, we can drop the column"
   ]
  },
  {
   "attachments": {},
   "cell_type": "markdown",
   "metadata": {},
   "source": [
    "### STATE"
   ]
  },
  {
   "cell_type": "code",
   "execution_count": 39,
   "metadata": {},
   "outputs": [
    {
     "name": "stdout",
     "output_type": "stream",
     "text": [
      "4     44870\n",
      "3     34078\n",
      "6     33505\n",
      "13    17884\n",
      "9     16022\n",
      "8     14197\n",
      "5     10177\n",
      "14     9414\n",
      "1      8936\n",
      "7      6786\n",
      "11     6721\n",
      "18     5412\n",
      "15     5049\n",
      "12     4210\n",
      "2      4160\n",
      "17     3991\n",
      "10     3605\n",
      "16     2685\n",
      "19     1035\n",
      "20      185\n",
      "21      156\n",
      "22       76\n",
      "Name: STATE_ID, dtype: int64\n",
      "\n",
      "\n",
      "4     0.192448\n",
      "3     0.146161\n",
      "6     0.143703\n",
      "13    0.076705\n",
      "9     0.068719\n",
      "8     0.060891\n",
      "5     0.043649\n",
      "14    0.040377\n",
      "1     0.038327\n",
      "7     0.029105\n",
      "11    0.028826\n",
      "18    0.023212\n",
      "15    0.021655\n",
      "12    0.018057\n",
      "2     0.017842\n",
      "17    0.017117\n",
      "10    0.015462\n",
      "16    0.011516\n",
      "19    0.004439\n",
      "20    0.000793\n",
      "21    0.000669\n",
      "22    0.000326\n",
      "Name: STATE_ID, dtype: float64\n"
     ]
    },
    {
     "data": {
      "image/png": "[encoded data removed]",
      "text/plain": [
       "<Figure size 640x480 with 1 Axes>"
      ]
     },
     "metadata": {},
     "output_type": "display_data"
    },
    {
     "name": "stdout",
     "output_type": "stream",
     "text": [
      "\n",
      "\n",
      "STATE_ID  LOAN_DEFAULT\n",
      "1         NO              0.822851\n",
      "          YES             0.177149\n",
      "2         NO              0.728606\n",
      "          YES             0.271394\n",
      "3         NO              0.813809\n",
      "          YES             0.186191\n",
      "4         NO              0.792155\n",
      "          YES             0.207845\n",
      "5         NO              0.801218\n",
      "          YES             0.198782\n",
      "6         NO              0.794359\n",
      "          YES             0.205641\n",
      "7         NO              0.798261\n",
      "          YES             0.201739\n",
      "8         NO              0.770515\n",
      "          YES             0.229485\n",
      "9         NO              0.782050\n",
      "          YES             0.217950\n",
      "10        NO              0.824411\n",
      "          YES             0.175589\n",
      "11        NO              0.795715\n",
      "          YES             0.204285\n",
      "12        NO              0.734442\n",
      "          YES             0.265558\n",
      "13        NO              0.693413\n",
      "          YES             0.306587\n",
      "14        NO              0.724134\n",
      "          YES             0.275866\n",
      "15        NO              0.788473\n",
      "          YES             0.211527\n",
      "16        NO              0.816387\n",
      "          YES             0.183613\n",
      "17        NO              0.754197\n",
      "          YES             0.245803\n",
      "18        NO              0.779933\n",
      "          YES             0.220067\n",
      "19        NO              0.819324\n",
      "          YES             0.180676\n",
      "20        NO              0.827027\n",
      "          YES             0.172973\n",
      "21        NO              0.801282\n",
      "          YES             0.198718\n",
      "22        NO              0.881579\n",
      "          YES             0.118421\n",
      "Name: LOAN_DEFAULT, dtype: float64\n",
      "\n",
      "\n",
      "LOAN_DEFAULT        NO       YES\n",
      "STATE_ID                        \n",
      "1             0.822851  0.177149\n",
      "2             0.728606  0.271394\n",
      "3             0.813809  0.186191\n",
      "4             0.792155  0.207845\n",
      "5             0.801218  0.198782\n",
      "6             0.794359  0.205641\n",
      "7             0.798261  0.201739\n",
      "8             0.770515  0.229485\n",
      "9             0.782050  0.217950\n",
      "10            0.824411  0.175589\n",
      "11            0.795715  0.204285\n",
      "12            0.734442  0.265558\n",
      "13            0.693413  0.306587\n",
      "14            0.724134  0.275866\n",
      "15            0.788473  0.211527\n",
      "16            0.816387  0.183613\n",
      "17            0.754197  0.245803\n",
      "18            0.779933  0.220067\n",
      "19            0.819324  0.180676\n",
      "20            0.827027  0.172973\n",
      "21            0.801282  0.198718\n",
      "22            0.881579  0.118421\n",
      "\n",
      "\n"
     ]
    },
    {
     "data": {
      "image/png": "[encoded data removed]",
      "text/plain": [
       "<Figure size 616.361x500 with 1 Axes>"
      ]
     },
     "metadata": {},
     "output_type": "display_data"
    }
   ],
   "source": [
    "explore_cat_var('STATE_ID')"
   ]
  },
  {
   "attachments": {},
   "cell_type": "markdown",
   "metadata": {},
   "source": [
    "### PERFORM_CNS_SCORE_DESCRIPTION"
   ]
  },
  {
   "cell_type": "code",
   "execution_count": 40,
   "metadata": {},
   "outputs": [
    {
     "name": "stdout",
     "output_type": "stream",
     "text": [
      "No Bureau History Available                                116950\n",
      "C-Very Low Risk                                             16045\n",
      "A-Very Low Risk                                             14124\n",
      "D-Very Low Risk                                             11358\n",
      "B-Very Low Risk                                              9201\n",
      "M-Very High Risk                                             8776\n",
      "F-Low Risk                                                   8485\n",
      "K-High Risk                                                  8277\n",
      "H-Medium Risk                                                6855\n",
      "E-Low Risk                                                   5821\n",
      "I-Medium Risk                                                5557\n",
      "G-Low Risk                                                   3988\n",
      "Not Scored: Sufficient History Not Available                 3765\n",
      "J-High Risk                                                  3748\n",
      "Not Scored: Not Enough Info available on the customer        3672\n",
      "Not Scored: No Activity seen on the customer (Inactive)      2885\n",
      "Not Scored: No Updates available in last 36 months           1534\n",
      "L-Very High Risk                                             1134\n",
      "Not Scored: Only a Guarantor                                  976\n",
      "Not Scored: More than 50 active Accounts found                  3\n",
      "Name: PERFORM_CNS_SCORE_DESCRIPTION, dtype: int64\n",
      "\n",
      "\n",
      "No Bureau History Available                                0.501600\n",
      "C-Very Low Risk                                            0.068817\n",
      "A-Very Low Risk                                            0.060578\n",
      "D-Very Low Risk                                            0.048715\n",
      "B-Very Low Risk                                            0.039463\n",
      "M-Very High Risk                                           0.037640\n",
      "F-Low Risk                                                 0.036392\n",
      "K-High Risk                                                0.035500\n",
      "H-Medium Risk                                              0.029401\n",
      "E-Low Risk                                                 0.024966\n",
      "I-Medium Risk                                              0.023834\n",
      "G-Low Risk                                                 0.017105\n",
      "Not Scored: Sufficient History Not Available               0.016148\n",
      "J-High Risk                                                0.016075\n",
      "Not Scored: Not Enough Info available on the customer      0.015749\n",
      "Not Scored: No Activity seen on the customer (Inactive)    0.012374\n",
      "Not Scored: No Updates available in last 36 months         0.006579\n",
      "L-Very High Risk                                           0.004864\n",
      "Not Scored: Only a Guarantor                               0.004186\n",
      "Not Scored: More than 50 active Accounts found             0.000013\n",
      "Name: PERFORM_CNS_SCORE_DESCRIPTION, dtype: float64\n"
     ]
    },
    {
     "data": {
      "image/png": "[encoded data removed]",
      "text/plain": [
       "<Figure size 640x480 with 1 Axes>"
      ]
     },
     "metadata": {},
     "output_type": "display_data"
    },
    {
     "name": "stdout",
     "output_type": "stream",
     "text": [
      "\n",
      "\n",
      "PERFORM_CNS_SCORE_DESCRIPTION                            LOAN_DEFAULT\n",
      "A-Very Low Risk                                          NO              0.834254\n",
      "                                                         YES             0.165746\n",
      "B-Very Low Risk                                          NO              0.868710\n",
      "                                                         YES             0.131290\n",
      "C-Very Low Risk                                          NO              0.827361\n",
      "                                                         YES             0.172639\n",
      "D-Very Low Risk                                          NO              0.850414\n",
      "                                                         YES             0.149586\n",
      "E-Low Risk                                               NO              0.828208\n",
      "                                                         YES             0.171792\n",
      "F-Low Risk                                               NO              0.813789\n",
      "                                                         YES             0.186211\n",
      "G-Low Risk                                               NO              0.802909\n",
      "                                                         YES             0.197091\n",
      "H-Medium Risk                                            NO              0.758133\n",
      "                                                         YES             0.241867\n",
      "I-Medium Risk                                            NO              0.727371\n",
      "                                                         YES             0.272629\n",
      "J-High Risk                                              NO              0.747599\n",
      "                                                         YES             0.252401\n",
      "K-High Risk                                              NO              0.721880\n",
      "                                                         YES             0.278120\n",
      "L-Very High Risk                                         NO              0.719577\n",
      "                                                         YES             0.280423\n",
      "M-Very High Risk                                         NO              0.695419\n",
      "                                                         YES             0.304581\n",
      "No Bureau History Available                              NO              0.768687\n",
      "                                                         YES             0.231313\n",
      "Not Scored: More than 50 active Accounts found           NO              1.000000\n",
      "Not Scored: No Activity seen on the customer (Inactive)  NO              0.816291\n",
      "                                                         YES             0.183709\n",
      "Not Scored: No Updates available in last 36 months       NO              0.809648\n",
      "                                                         YES             0.190352\n",
      "Not Scored: Not Enough Info available on the customer    NO              0.790305\n",
      "                                                         YES             0.209695\n",
      "Not Scored: Only a Guarantor                             NO              0.786885\n",
      "                                                         YES             0.213115\n",
      "Not Scored: Sufficient History Not Available             NO              0.744223\n",
      "                                                         YES             0.255777\n",
      "Name: LOAN_DEFAULT, dtype: float64\n",
      "\n",
      "\n",
      "LOAN_DEFAULT                                              NO       YES\n",
      "PERFORM_CNS_SCORE_DESCRIPTION                                         \n",
      "A-Very Low Risk                                     0.834254  0.165746\n",
      "B-Very Low Risk                                     0.868710  0.131290\n",
      "C-Very Low Risk                                     0.827361  0.172639\n",
      "D-Very Low Risk                                     0.850414  0.149586\n",
      "E-Low Risk                                          0.828208  0.171792\n",
      "F-Low Risk                                          0.813789  0.186211\n",
      "G-Low Risk                                          0.802909  0.197091\n",
      "H-Medium Risk                                       0.758133  0.241867\n",
      "I-Medium Risk                                       0.727371  0.272629\n",
      "J-High Risk                                         0.747599  0.252401\n",
      "K-High Risk                                         0.721880  0.278120\n",
      "L-Very High Risk                                    0.719577  0.280423\n",
      "M-Very High Risk                                    0.695419  0.304581\n",
      "No Bureau History Available                         0.768687  0.231313\n",
      "Not Scored: More than 50 active Accounts found      1.000000       NaN\n",
      "Not Scored: No Activity seen on the customer (I...  0.816291  0.183709\n",
      "Not Scored: No Updates available in last 36 months  0.809648  0.190352\n",
      "Not Scored: Not Enough Info available on the cu...  0.790305  0.209695\n",
      "Not Scored: Only a Guarantor                        0.786885  0.213115\n",
      "Not Scored: Sufficient History Not Available        0.744223  0.255777\n",
      "\n",
      "\n"
     ]
    },
    {
     "data": {
      "image/png": "[encoded data removed]",
      "text/plain": [
       "<Figure size 616.361x500 with 1 Axes>"
      ]
     },
     "metadata": {},
     "output_type": "display_data"
    }
   ],
   "source": [
    "explore_cat_var('PERFORM_CNS_SCORE_DESCRIPTION')"
   ]
  },
  {
   "attachments": {},
   "cell_type": "markdown",
   "metadata": {},
   "source": [
    "### EMPLOYMENT_TYPE"
   ]
  },
  {
   "cell_type": "code",
   "execution_count": 41,
   "metadata": {},
   "outputs": [
    {
     "name": "stdout",
     "output_type": "stream",
     "text": [
      "Self employed    127635\n",
      "Salaried          97858\n",
      "Missing            7661\n",
      "Name: EMPLOYMENT_TYPE, dtype: int64\n",
      "\n",
      "\n",
      "Self employed    0.547428\n",
      "Salaried         0.419714\n",
      "Missing          0.032858\n",
      "Name: EMPLOYMENT_TYPE, dtype: float64\n"
     ]
    },
    {
     "data": {
      "image/png": "[encoded data removed]",
      "text/plain": [
       "<Figure size 640x480 with 1 Axes>"
      ]
     },
     "metadata": {},
     "output_type": "display_data"
    },
    {
     "name": "stdout",
     "output_type": "stream",
     "text": [
      "\n",
      "\n",
      "EMPLOYMENT_TYPE  LOAN_DEFAULT\n",
      "Missing          NO              0.785407\n",
      "                 YES             0.214593\n",
      "Salaried         NO              0.796542\n",
      "                 YES             0.203458\n",
      "Self employed    NO              0.772343\n",
      "                 YES             0.227657\n",
      "Name: LOAN_DEFAULT, dtype: float64\n",
      "\n",
      "\n",
      "LOAN_DEFAULT           NO       YES\n",
      "EMPLOYMENT_TYPE                    \n",
      "Missing          0.785407  0.214593\n",
      "Salaried         0.796542  0.203458\n",
      "Self employed    0.772343  0.227657\n",
      "\n",
      "\n"
     ]
    },
    {
     "data": {
      "image/png": "[encoded data removed]",
      "text/plain": [
       "<Figure size 616.361x500 with 1 Axes>"
      ]
     },
     "metadata": {},
     "output_type": "display_data"
    }
   ],
   "source": [
    "explore_cat_var('EMPLOYMENT_TYPE')"
   ]
  },
  {
   "attachments": {},
   "cell_type": "markdown",
   "metadata": {},
   "source": [
    "# EXPLORING NUMERICAL VARIABLES "
   ]
  },
  {
   "attachments": {},
   "cell_type": "markdown",
   "metadata": {},
   "source": [
    "### AGE"
   ]
  },
  {
   "cell_type": "code",
   "execution_count": 42,
   "metadata": {},
   "outputs": [],
   "source": [
    "# Function to explore continuous variables\n",
    "def explore_cont_var(var):\n",
    "    print(loan_df_cleaned[var].describe())\n",
    "    print(\"\\n\")\n",
    "    \n",
    "    sns.boxplot(loan_df_cleaned[var], orient='v', width=0.2, color='pink')\n",
    "    plt.show()\n",
    "    print(\"\\n\")\n",
    "    \n",
    "    sns.distplot(loan_df_cleaned[var],hist=False, color='indigo')\n",
    "    plt.show()\n",
    "    print(\"\\n\")\n",
    "    \n",
    "    sns.boxplot(x='LOAN_DEFAULT', y=var, data=loan_df_cleaned, orient='v', width=0.2, color='pink')\n",
    "    plt.show()\n",
    "    print(\"\\n\")"
   ]
  },
  {
   "cell_type": "code",
   "execution_count": 43,
   "metadata": {},
   "outputs": [
    {
     "name": "stdout",
     "output_type": "stream",
     "text": [
      "23    10584\n",
      "24    10530\n",
      "26    10390\n",
      "22    10211\n",
      "28    10116\n",
      "25    10007\n",
      "27     9385\n",
      "30     9232\n",
      "29     8903\n",
      "31     8633\n",
      "32     8441\n",
      "33     7922\n",
      "21     7489\n",
      "34     7481\n",
      "35     7140\n",
      "36     7018\n",
      "38     6788\n",
      "37     6178\n",
      "40     5883\n",
      "43     5627\n",
      "39     5614\n",
      "42     5581\n",
      "41     5310\n",
      "44     4638\n",
      "45     4466\n",
      "46     4366\n",
      "48     4063\n",
      "47     3721\n",
      "49     3147\n",
      "50     3081\n",
      "51     2522\n",
      "53     2397\n",
      "52     2268\n",
      "20     2188\n",
      "54     1773\n",
      "19     1604\n",
      "55     1556\n",
      "56     1478\n",
      "58     1241\n",
      "57     1173\n",
      "59      816\n",
      "18      632\n",
      "60      621\n",
      "61      412\n",
      "62      337\n",
      "63      169\n",
      "64       21\n",
      "69        1\n",
      "Name: AGE, dtype: int64\n",
      "\n",
      "\n",
      "23    0.045395\n",
      "24    0.045163\n",
      "26    0.044563\n",
      "22    0.043795\n",
      "28    0.043388\n",
      "25    0.042920\n",
      "27    0.040252\n",
      "30    0.039596\n",
      "29    0.038185\n",
      "31    0.037027\n",
      "32    0.036204\n",
      "33    0.033978\n",
      "21    0.032120\n",
      "34    0.032086\n",
      "35    0.030624\n",
      "36    0.030100\n",
      "38    0.029114\n",
      "37    0.026498\n",
      "40    0.025232\n",
      "43    0.024134\n",
      "39    0.024079\n",
      "42    0.023937\n",
      "41    0.022775\n",
      "44    0.019892\n",
      "45    0.019155\n",
      "46    0.018726\n",
      "48    0.017426\n",
      "47    0.015959\n",
      "49    0.013498\n",
      "50    0.013214\n",
      "51    0.010817\n",
      "53    0.010281\n",
      "52    0.009727\n",
      "20    0.009384\n",
      "54    0.007604\n",
      "19    0.006880\n",
      "55    0.006674\n",
      "56    0.006339\n",
      "58    0.005323\n",
      "57    0.005031\n",
      "59    0.003500\n",
      "18    0.002711\n",
      "60    0.002663\n",
      "61    0.001767\n",
      "62    0.001445\n",
      "63    0.000725\n",
      "64    0.000090\n",
      "69    0.000004\n",
      "Name: AGE, dtype: float64\n"
     ]
    },
    {
     "data": {
      "image/png": "[encoded data removed]",
      "text/plain": [
       "<Figure size 640x480 with 1 Axes>"
      ]
     },
     "metadata": {},
     "output_type": "display_data"
    },
    {
     "name": "stdout",
     "output_type": "stream",
     "text": [
      "\n",
      "\n",
      "AGE  LOAN_DEFAULT\n",
      "18   NO              0.732595\n",
      "     YES             0.267405\n",
      "19   NO              0.761222\n",
      "     YES             0.238778\n",
      "20   NO              0.750457\n",
      "                       ...   \n",
      "63   NO              0.869822\n",
      "     YES             0.130178\n",
      "64   NO              0.809524\n",
      "     YES             0.190476\n",
      "69   NO              1.000000\n",
      "Name: LOAN_DEFAULT, Length: 95, dtype: float64\n",
      "\n",
      "\n",
      "LOAN_DEFAULT        NO       YES\n",
      "AGE                             \n",
      "18            0.732595  0.267405\n",
      "19            0.761222  0.238778\n",
      "20            0.750457  0.249543\n",
      "21            0.743624  0.256376\n",
      "22            0.758006  0.241994\n",
      "23            0.758125  0.241875\n",
      "24            0.771700  0.228300\n",
      "25            0.767363  0.232637\n",
      "26            0.768912  0.231088\n",
      "27            0.779329  0.220671\n",
      "28            0.772539  0.227461\n",
      "29            0.783444  0.216556\n",
      "30            0.780004  0.219996\n",
      "31            0.780609  0.219391\n",
      "32            0.783556  0.216444\n",
      "33            0.780737  0.219263\n",
      "34            0.789600  0.210400\n",
      "35            0.794958  0.205042\n",
      "36            0.794956  0.205044\n",
      "37            0.792813  0.207187\n",
      "38            0.783294  0.216706\n",
      "39            0.801568  0.198432\n",
      "40            0.794153  0.205847\n",
      "41            0.790584  0.209416\n",
      "42            0.793765  0.206235\n",
      "43            0.797583  0.202417\n",
      "44            0.817809  0.182191\n",
      "45            0.792880  0.207120\n",
      "46            0.806917  0.193083\n",
      "47            0.789035  0.210965\n",
      "48            0.791779  0.208221\n",
      "49            0.801398  0.198602\n",
      "50            0.797144  0.202856\n",
      "51            0.792625  0.207375\n",
      "52            0.815256  0.184744\n",
      "53            0.798498  0.201502\n",
      "54            0.813311  0.186689\n",
      "55            0.803985  0.196015\n",
      "56            0.813261  0.186739\n",
      "57            0.813299  0.186701\n",
      "58            0.798550  0.201450\n",
      "59            0.839461  0.160539\n",
      "60            0.811594  0.188406\n",
      "61            0.837379  0.162621\n",
      "62            0.869436  0.130564\n",
      "63            0.869822  0.130178\n",
      "64            0.809524  0.190476\n",
      "69            1.000000       NaN\n",
      "\n",
      "\n"
     ]
    },
    {
     "data": {
      "image/png": "[encoded data removed]",
      "text/plain": [
       "<Figure size 616.361x500 with 1 Axes>"
      ]
     },
     "metadata": {},
     "output_type": "display_data"
    }
   ],
   "source": [
    "explore_cat_var('AGE')"
   ]
  },
  {
   "attachments": {},
   "cell_type": "markdown",
   "metadata": {},
   "source": [
    "* The Mean Age is ```34.1```\n",
    "* The Medium Age is ```32``` \n",
    "* Max is far bigger than 3rd Q, probably has a right tail\n",
    "* Min of ```17``` and Max of ```69```. This are resonable ages and therefore no outliers"
   ]
  },
  {
   "cell_type": "code",
   "execution_count": 44,
   "metadata": {},
   "outputs": [
    {
     "data": {
      "text/plain": [
       "<AxesSubplot:xlabel='AGE'>"
      ]
     },
     "execution_count": 44,
     "metadata": {},
     "output_type": "execute_result"
    },
    {
     "data": {
      "image/png": "[encoded data removed]",
      "text/plain": [
       "<Figure size 640x480 with 1 Axes>"
      ]
     },
     "metadata": {},
     "output_type": "display_data"
    }
   ],
   "source": [
    "# AGE Boxplot\n",
    "sns.boxplot(loan_df_cleaned['AGE'], orient='v', width=0.2, color='pink')"
   ]
  },
  {
   "attachments": {},
   "cell_type": "markdown",
   "metadata": {},
   "source": [
    "* The distribution of AGE within the group of people who defaulted was maginally younger "
   ]
  },
  {
   "cell_type": "code",
   "execution_count": 45,
   "metadata": {},
   "outputs": [
    {
     "name": "stdout",
     "output_type": "stream",
     "text": [
      "count    233154.000000\n",
      "mean      54356.993528\n",
      "std       12971.314171\n",
      "min       13320.000000\n",
      "25%       47145.000000\n",
      "50%       53803.000000\n",
      "75%       60413.000000\n",
      "max      990572.000000\n",
      "Name: DISBURSED_AMOUNT, dtype: float64\n",
      "\n",
      "\n"
     ]
    },
    {
     "data": {
      "image/png": "[encoded data removed]",
      "text/plain": [
       "<Figure size 640x480 with 1 Axes>"
      ]
     },
     "metadata": {},
     "output_type": "display_data"
    },
    {
     "name": "stdout",
     "output_type": "stream",
     "text": [
      "\n",
      "\n"
     ]
    },
    {
     "data": {
      "image/png": "[encoded data removed]",
      "text/plain": [
       "<Figure size 640x480 with 1 Axes>"
      ]
     },
     "metadata": {},
     "output_type": "display_data"
    },
    {
     "name": "stdout",
     "output_type": "stream",
     "text": [
      "\n",
      "\n"
     ]
    },
    {
     "data": {
      "image/png": "[encoded data removed]",
      "text/plain": [
       "<Figure size 640x480 with 1 Axes>"
      ]
     },
     "metadata": {},
     "output_type": "display_data"
    },
    {
     "name": "stdout",
     "output_type": "stream",
     "text": [
      "\n",
      "\n"
     ]
    }
   ],
   "source": [
    "# Explore Disbursed Amount\n",
    "explore_cont_var('DISBURSED_AMOUNT')"
   ]
  },
  {
   "attachments": {},
   "cell_type": "markdown",
   "metadata": {},
   "source": [
    "* The average disbursed amount is ```54356.0```\n",
    "* The median disbursed amount is ```53703.0```\n",
    "* The minimum disbursed amount is ```13320.0```\n",
    "* The maximum disbursed amount is ```990572.0```\n",
    "* The disbursed amount is right skewed\n",
    "* There are outliers in the disbursed amount\n",
    "* The disbursed amount for defaulters is higher than that of non-defaulters"
   ]
  },
  {
   "attachments": {},
   "cell_type": "markdown",
   "metadata": {},
   "source": [
    "### Binary Variables "
   ]
  },
  {
   "cell_type": "code",
   "execution_count": 46,
   "metadata": {},
   "outputs": [
    {
     "name": "stdout",
     "output_type": "stream",
     "text": [
      "1    195924\n",
      "0     37230\n",
      "Name: AADHAR_FLAG, dtype: int64\n",
      "\n",
      "\n",
      "1    0.84032\n",
      "0    0.15968\n",
      "Name: AADHAR_FLAG, dtype: float64\n"
     ]
    },
    {
     "data": {
      "image/png": "[encoded data removed]",
      "text/plain": [
       "<Figure size 640x480 with 1 Axes>"
      ]
     },
     "metadata": {},
     "output_type": "display_data"
    },
    {
     "name": "stdout",
     "output_type": "stream",
     "text": [
      "\n",
      "\n",
      "AADHAR_FLAG  LOAN_DEFAULT\n",
      "0            NO              0.743594\n",
      "             YES             0.256406\n",
      "1            NO              0.790403\n",
      "             YES             0.209597\n",
      "Name: LOAN_DEFAULT, dtype: float64\n",
      "\n",
      "\n",
      "LOAN_DEFAULT        NO       YES\n",
      "AADHAR_FLAG                     \n",
      "0             0.743594  0.256406\n",
      "1             0.790403  0.209597\n",
      "\n",
      "\n"
     ]
    },
    {
     "data": {
      "image/png": "[encoded data removed]",
      "text/plain": [
       "<Figure size 616.361x500 with 1 Axes>"
      ]
     },
     "metadata": {},
     "output_type": "display_data"
    }
   ],
   "source": [
    "# explore AADHAR_FLAG\n",
    "explore_cat_var('AADHAR_FLAG')"
   ]
  },
  {
   "attachments": {},
   "cell_type": "markdown",
   "metadata": {},
   "source": [
    "* Those who provided AADHAR are more likely to default\n",
    "* Those who did not provide AADHAR are less likely to default\n",
    "* Those who provided AADHAR are more than those who did not provide AADHAR"
   ]
  }
 ],
 "metadata": {
  "kernelspec": {
   "display_name": "learn-env",
   "language": "python",
   "name": "python3"
  },
  "language_info": {
   "codemirror_mode": {
    "name": "ipython",
    "version": 3
   },
   "file_extension": ".py",
   "mimetype": "text/x-python",
   "name": "python",
   "nbconvert_exporter": "python",
   "pygments_lexer": "ipython3",
   "version": "3.9.13"
  },
  "orig_nbformat": 4
 },
 "nbformat": 4,
 "nbformat_minor": 2
}
